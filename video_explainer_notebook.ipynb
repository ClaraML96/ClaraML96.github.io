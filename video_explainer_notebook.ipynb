{
 "cells": [
  {
   "cell_type": "markdown",
   "metadata": {},
   "source": [
    "## **Central Idea of The Project**\n",
    "\n",
    "### **What is the idea?**\n",
    "\n",
    "The central concept of our project is to investigate how ridership patterns on the New York City subway system have shifted between 2020 and 2024, with a particular focus on the effects of the COVID-19 pandemic, post-pandemic recovery, and localised changes in urban mobility.\n",
    "\n",
    "We aim to address several questions:\n",
    "- How did subway use change before, during, and after the pandemic?\n",
    "- Which stations have seen the fastest recovery—and which remain well below pre-pandemic levels?\n",
    "- Have traditional commuting patterns (weekday peak hours) returned?\n",
    "- Do certain boroughs or lines reflect different trends in public transit usage?\n",
    "\n",
    "### **Which dataset(s) do we need?**\n",
    "\n",
    "We are using the [**MTA Subway Hourly Ridership (2020–2024)** dataset](https://data.ny.gov/Transportation/MTA-Subway-Hourly-Ridership-2020-2024/wujg-7c2s), which provides hourly turnstile entry data per station complex across the entire NYC subway system.\n",
    "\n",
    "Each row contains:\n",
    "- The name of the station complex\n",
    "- Date and time (hourly resolution)\n",
    "- Borough and subway line\n",
    "- Total ridership (entries)\n",
    "\n",
    "### **Why is it interesting?**\n",
    "\n",
    "This dataset reflects a rare, city-wide behavioural shift in real time. New York’s subway system is a vital part of urban life—so changes in how people used it during and after the pandemic provide insight into remote work, economic resilience, urban planning, and public health behaviour.\n",
    "\n",
    "It is interesting not just because of what happened in 2020, but because of what is still evolving: Are we witnessing a permanent shift in urban transport patterns?"
   ]
  },
  {
   "cell_type": "markdown",
   "metadata": {},
   "source": []
  },
  {
   "cell_type": "markdown",
   "metadata": {},
   "source": [
    "## **What genre is it? Why is that genre right?**\n",
    "\n",
    "We used the \"Magazine Style\" genre of data storytelling as defined in Section 4.3 of Segel and Heer’s paper.\n",
    "\n",
    "### **Why is that genre appropriate for our story?**  \n",
    "\n",
    "v1:\n",
    "\n",
    "This genre is characterized by a single-scrollable page that combines visualizations with text narrative in a structured layout. It is designed to be reader-friendly and engaging for a general audience, much like a longform web article from The New York Times or The Pudding.  \n",
    "\n",
    "We chose this genre because it balances exploration and explanation**—it allows us to guide the reader through a curated journey while offering moments of interactivity and discovery.\n",
    "\n",
    "v2:\n",
    "\n",
    "Magazine-style storytelling allows for:\n",
    "- A linear, curated narrative: perfect for guiding the reader through events as they unfolded (from pre-pandemic to recovery).\n",
    "- **Visuals interwoven with explanatory text, allowing the reader to understand and interpret complex data in context.\n",
    "- A balance between **guided insights** and **interactive exploration**—allowing users to engage with specific stations, times, or boroughs they care about.\n",
    "\n",
    "It’s the most appropriate genre because we are telling a story that is **anchored in time**, with a clear beginning (normal life), middle (disruption), and evolving end (adaptation and change). It mirrors how a journalistic feature might explain a major social event using data."
   ]
  },
  {
   "cell_type": "markdown",
   "metadata": {},
   "source": []
  },
  {
   "cell_type": "markdown",
   "metadata": {},
   "source": [
    "## **Preliminary Data Analysis**\n",
    "\n",
    "### **What is the total size of your data?**\n",
    "\n",
    "- **Total rows**: ~11 million entries\n",
    "- **Columns**: 12 main variables:\n",
    "    - `transit_timestamp`\n",
    "    - `transit_mode`\n",
    "    - `transfers`\n",
    "    - `station_complex_id`\n",
    "    - `station_complex`\n",
    "    - `ridership` (numeric count of entries per hour)\n",
    "    - `payment_method`\n",
    "    - `longitude`\n",
    "    - `latitude`\n",
    "    - `Georeference` (Open Data platform-generated geocoding information from supplied address components.)\n",
    "    - `fare_class_category`\n",
    "    - `borough` ((Bronx, Brooklyn, Manhattan, Queens))\n",
    "- **File size**: Approximately 15GB  in CSV format\n",
    "\n",
    "### **Date range:**\n",
    "From **1 January 2020 to 9 April 2024**, updated regularly.\n",
    "The transit timestamp allows for fine-grained analysis of temporal trends, including rush hour, weekends, and seasonal effects.\n",
    "\n",
    "### **Is it geographic data?**\n",
    "The dataset does include geographic data, with its standard format and columns for latitude and longitude. Another great feature is that there is a Georeference column that indicates the geocoding information from supplied address components. This is useful for mapping and spatial analysis."
   ]
  },
  {
   "cell_type": "markdown",
   "metadata": {},
   "source": []
  },
  {
   "cell_type": "markdown",
   "metadata": {},
   "source": [
    "## **Exploratory Visual Analysis (needs to be checked up by Clara)**\n",
    "\n",
    "### 1. **Distribution of Ridership Counts**\n",
    "\n",
    "We plotted a histogram of hourly ridership across all stations."
   ]
  },
  {
   "cell_type": "markdown",
   "metadata": {},
   "source": []
  },
  {
   "cell_type": "markdown",
   "metadata": {},
   "source": [
    "## Summary\n",
    "\n",
    "We are using a magazine-style narrative to explore a rich and timely dataset about NYC's subway system. Our preliminary analysis has uncovered clear temporal and spatial patterns that reflect real-world behaviour—and our next step is to build visual, interactive tools to help readers engage with this changing urban story."
   ]
  }
 ],
 "metadata": {
  "language_info": {
   "name": "python"
  }
 },
 "nbformat": 4,
 "nbformat_minor": 2
}
