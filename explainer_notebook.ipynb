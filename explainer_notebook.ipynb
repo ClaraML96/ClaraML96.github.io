{
 "cells": [
  {
   "cell_type": "markdown",
   "metadata": {},
   "source": [
    "# Motivation"
   ]
  },
  {
   "cell_type": "markdown",
   "metadata": {},
   "source": [
    "- *What is your dataset?*\n",
    "\n",
    "\n",
    "\n",
    "- *Why did you choose this/these particular dataset(s)?*\n",
    "\n",
    "\n",
    "\n",
    "- *What was your goal for the end user's experience?*\n"
   ]
  },
  {
   "cell_type": "markdown",
   "metadata": {},
   "source": []
  },
  {
   "cell_type": "markdown",
   "metadata": {},
   "source": [
    "# Basic Stats"
   ]
  },
  {
   "cell_type": "markdown",
   "metadata": {},
   "source": [
    "- *Write about your choices in data cleaning and preprocessing*.\n"
   ]
  },
  {
   "cell_type": "markdown",
   "metadata": {},
   "source": [
    "#### **Data Cleaning**"
   ]
  },
  {
   "cell_type": "markdown",
   "metadata": {},
   "source": [
    "**Which columns can we remove?**\n",
    "\n",
    "\n",
    "**Which rows of columns should we remove?**"
   ]
  },
  {
   "cell_type": "markdown",
   "metadata": {},
   "source": [
    "- *Write a short section that discusses the dataset stats, containing key points/plots from your exploratory data analysis.*\n"
   ]
  },
  {
   "cell_type": "markdown",
   "metadata": {},
   "source": [
    "# Data Analysis\n",
    "\n",
    "- *Describe your data analysis and explain what you've learned about the dataset.*\n",
    "- *If relevant, talk about your machine-learning.*\n",
    "\n",
    "##### **FOR CLARITY OF THE EXPLAINER, THE DATA ANALYSIS IS DONE IN SEPARATE NOTEBOOKS AND REFERENCED. ONLY SELECT PLOTS ARE SHOWN HERE**\n",
    "\n",
    "The data analysis plots are done in different notebooks as they are too large to have in one notebook. Selected plots are shown in this notebook to give an idea of the most important findings.\n",
    "We know that you asked for the explainer notebook to contain all the code that made up this project but we truly believe that using our current folder structure with hyperlinks and reference links to the respective files are much manageable and clear to individuals grading this project"
   ]
  },
  {
   "cell_type": "markdown",
   "metadata": {},
   "source": [
    "### Temporal Data Analysis"
   ]
  },
  {
   "cell_type": "markdown",
   "metadata": {},
   "source": [
    "The full temporal data analysis is done in file [Temporal Data Analysis Code](data_analysis_and_preprocessing/temporal_plots.ipynb). Firstly, an analysis of all temporal changes for all top 25 most common crimes is done by Year, Month, Weekday, 24-Hour using multipanel bar plots. Here is an example of the Weekday and 24 plots as these were most relevant for travelling in NYC, since the yearly plot is hard to act upon, whereas a more managable hourly and weekday plot can be used to avoid crime hotspots. "
   ]
  },
  {
   "cell_type": "markdown",
   "metadata": {},
   "source": [
    "### Bar Plots"
   ]
  },
  {
   "cell_type": "markdown",
   "metadata": {},
   "source": [
    "### Line And Polar Plots"
   ]
  },
  {
   "cell_type": "markdown",
   "metadata": {},
   "source": [
    "These plots illustrate that there are significant temporal changes across all "
   ]
  },
  {
   "cell_type": "markdown",
   "metadata": {},
   "source": [
    "## Socioeconomic Data Analysis"
   ]
  },
  {
   "cell_type": "markdown",
   "metadata": {},
   "source": [
    "# Genre\n",
    "\n",
    "Which genre of data story did you use?\n",
    "\n",
    "- Which tools did you use from each of the 3 categories of Visual Narrative (Figure 7 in Segal and Heer). Why?\n",
    "- Which tools did you use from each of the 3 categories of Narrative Structure (Figure 7 in Segal and Heer). Why?"
   ]
  },
  {
   "cell_type": "markdown",
   "metadata": {},
   "source": [
    "## Visual Narrative\n",
    "\n",
    "#### **Visual Structuring**\n",
    "\n",
    "#### **Highlighting**\n",
    "\n",
    "\n",
    "#### **Transition Guidance**\n",
    "\n",
    "\n",
    "\n",
    "## Narrative Structure\n",
    "\n",
    "#### **Ordering**\n",
    "\n",
    "\n",
    "#### **Interactivity**\n",
    "\n",
    "\n",
    "#### **Messaging**\n",
    "\n",
    "\n",
    "\n"
   ]
  },
  {
   "cell_type": "markdown",
   "metadata": {},
   "source": [
    "# Visualizations\n",
    "- Explain the visualizations you've chosen.\n",
    "- Why are they right for the story you want to tell?"
   ]
  },
  {
   "cell_type": "markdown",
   "metadata": {},
   "source": [
    "##### **Bar Charts**\n"
   ]
  },
  {
   "cell_type": "markdown",
   "metadata": {},
   "source": [
    "##### **Line & Polar Plot**\n"
   ]
  },
  {
   "cell_type": "markdown",
   "metadata": {},
   "source": [
    "##### **Bokeh Plots**\n"
   ]
  },
  {
   "cell_type": "markdown",
   "metadata": {},
   "source": []
  },
  {
   "cell_type": "markdown",
   "metadata": {},
   "source": []
  },
  {
   "cell_type": "markdown",
   "metadata": {},
   "source": []
  },
  {
   "cell_type": "markdown",
   "metadata": {},
   "source": [
    "# Discussion\n",
    "- What went well?,\n",
    "- What is still missing? What could be improved?, Why?"
   ]
  },
  {
   "cell_type": "markdown",
   "metadata": {},
   "source": [
    "### What went well?,\n",
    "- t\n",
    "- h\n",
    "\n",
    "### What is still missing? What could be improved?, Why?\n",
    "- o\n",
    "- i\n"
   ]
  },
  {
   "cell_type": "markdown",
   "metadata": {},
   "source": [
    "# Contributions\n",
    "\n",
    "You should write (just briefly) which group member was the main responsible for which elements of the assignment. (I want you guys to understand every part of the assignment, but usually there is someone who took lead role on certain portions of the work. That's what you should explain).\n",
    "It is not OK simply to write \"All group members contributed equally\".\n",
    "\n",
    "##### **General Notes on collaboration**\n",
    "\n",
    "All 3 students have contributed equally to this project and we have assisted each other and understand each component of the final result. \n",
    "\n",
    "However, as required by DTU the following is an outline of the primary responsibilities for each student:"
   ]
  },
  {
   "cell_type": "markdown",
   "metadata": {},
   "source": []
  }
 ],
 "metadata": {
  "kernelspec": {
   "display_name": "Python 3",
   "language": "python",
   "name": "python3"
  },
  "language_info": {
   "codemirror_mode": {
    "name": "ipython",
    "version": 3
   },
   "file_extension": ".py",
   "mimetype": "text/x-python",
   "name": "python",
   "nbconvert_exporter": "python",
   "pygments_lexer": "ipython3",
   "version": "3.10.10"
  }
 },
 "nbformat": 4,
 "nbformat_minor": 2
}
