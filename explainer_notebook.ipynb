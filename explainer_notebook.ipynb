{
 "cells": [
  {
   "cell_type": "markdown",
   "metadata": {},
   "source": [
    "# Motivation"
   ]
  },
  {
   "cell_type": "markdown",
   "metadata": {},
   "source": [
    "> *What is your dataset?*\n",
    "\n",
    "This data story explores how New York City's movement, mood, and moments are reflected in its subway system. We use two complementary datasets provided by the MTA:\n",
    "1. [MTA Subway Hourly Ridership Data (2020–2024)](https://data.ny.gov/Transportation/MTA-Subway-Hourly-Ridership-2020-2024/wujg-7c2s/about_data) - This dataset captures the hourly number of entries and exits at each subway station, allowing us to trace real-time shifts in how people move through the city across both regular days and exceptional events.\n",
    "2. [Major Subway Incident Reports (2020–2024)](https://data.ny.gov/Transportation/MTA-Subway-Major-Incidents-2020-2024/j6d2-s8m2/about_data) - This dataset documents monthly counts of significant subway disruptions by category—ranging from signal failures to medical emergencies—revealing where and when the system falters under stress.\n",
    "\n",
    "Together, these datasets offer a dual perspective: how the city moves, and how the system reacts when it can't.\n",
    "<!--\n",
    "Our dataset is the [MTA Subway Hourly Ridership](https://data.ny.gov/Transportation/MTA-Subway-Hourly-Ridership-2020-2024/wujg-7c2s/about_data) dataset provided by the Metropolitan Transportation Authority (MTA) of New York. It includes hourly counts of entries and exits for every subway station in NYC from January 2020 to the present. Each row represents one station-hour, with metadata including date, station name, line, borough, and ridership numbers. The dataset captures both weekday and weekend traffic, making it useful for analysing temporal patterns in New York’s subway system over time.\n",
    "-->\n",
    "\n",
    "> *Why did you choose these datasets?*\n",
    "\n",
    "We chose them because the NYC subway system is more than just a transportation network—it is a barometer of the city's vitality and vulnerability. The ridership data lets us observe the city's rhythm: the weekday commutes, the holiday swells, the sudden drop-offs after a crisis. Meanwhile, the incident reports show us when and why the system breaks—whether due to aging infrastructure, social stress, or unexpected emergencies.\n",
    "<!--\n",
    "We chose it because the subway reflects the mood, motion, and disruption of the city. Whether it is a blizzard in The Bronx, a signal failure at Penn Station, or 50,000 runners flooding Columbus Circle, the changes in ridership give us a direct, measurable signal of how New Yorkers react to their environment.\n",
    "\n",
    "And because the dataset is so granular—hour-by-hour at each station—it allowed us to zoom in on the exact moment when the city shifts. We could see the crowd surge in Times Square at midnight, the quiet after a protest, or the hesitation after a high-profile crime.\n",
    "-->\n",
    "> *What was your goal for the user experience?*\n",
    "\n",
    "Our goal was to create a data-driven urban narrative—a three-act story where the subway acts as both a character and a setting.\n",
    "\n",
    "1. Act I – The City Moves: The subway’s daily rhythm, borough by borough, week by week.\n",
    "2. Act II – The City Celebrates: Ridership surges during public events, festivals, and spontaneous gatherings.\n",
    "3. Act III – The City Struggles: Disruptions, breakdowns, and crises seen through the lens of incident data.\n",
    "\n",
    "Our aim was to let readers feel the rhythm of the city. We designed our visualizations and layout to feel like a digital magazine. \n",
    "\n",
    "<!--\n",
    "Our aim was to let readers feel the rhythm of the city. We did not just want to show charts—we wanted to tell stories. Stories of how the subway reacts during a crisis, how it pulses with energy during events, and how it quietly reflects collective human decisions like protest, celebration, or avoidance.\n",
    "\n",
    "We designed our story like a digital magazine: immersive, browsable, with clean visuals that flow naturally from one insight to the next. We wanted users to walk away not just understanding the data—but seeing the subway as a living, breathing mirror of New York City itself.\n",
    "-->"
   ]
  },
  {
   "cell_type": "markdown",
   "metadata": {},
   "source": [
    "# Basic Stats"
   ]
  },
  {
   "cell_type": "markdown",
   "metadata": {},
   "source": [
    "> *Write about your choices in data cleaning and preprocessing*.\n",
    "\n",
    "The Subway data is messy. Our project works with two datasets: one tracking the flow of people through stations by the hour, the other recording subway system incidents that disrupt those flows. To tell clear, meaningful stories, we preprocess both.\n",
    "\n",
    "<!--\n",
    "Subway data is messy—just like the city it tracks. Each entry in the dataset records a turnstile tap at a specific moment in time, logged under a column called `transit_timestamp`. But for our stories to work—like isolating midnight surges on New Year’s Eve or early-morning Marathon crowds—we needed a clearer sense of when things were happening.\n",
    "-->\n",
    "\n",
    "\n",
    "1. Preprocessing the Ridership Data: Making Time Human\n",
    "Each ridership record logs a turnstile entry or exit at a particular moment (transit_timestamp). But human stories don’t happen in timestamps—they happen in hours, days, and rhythms. To make the data match the city's pulse, we extracted the date and hour:\n",
    "\n",
    "```python\n",
    "# Convert timestamp to datetime and extract date/hour\n",
    "df['transit_timestamp'] = pd.to_datetime(df['transit_timestamp'])\n",
    "df['date'] = df['transit_timestamp'].dt.date\n",
    "df['hour'] = df['transit_timestamp'].dt.hour\n",
    "```\n",
    "This simple transformation let us answer rich, human questions:\n",
    "- What does Monday morning at 8 AM look like across different boroughs?\n",
    "- When does the crowd begin to surge during New Year’s Eve celebrations?\n",
    "- How do weekday evening peaks differ from lazy Sunday afternoons?\n",
    "\n",
    "It also allowed us to build visualizations that compare weekdays vs. weekends, event days vs. normal days, and identify spikes or silences in ridership that align with real-world moments.\n",
    "\n",
    "2. Preprocessing the Incident Data: Structuring Disruptions\n",
    "\n",
    "The incident dataset came in at a coarser resolution—monthly totals by incident type, but it was still raw and categorical. To make it useful for storytelling, we:\n",
    "- Parsed timestamps to group incidents over time\n",
    "- Normalized and clarified category labels to group similar disruptions (e.g. merging police, medical, and person-on-trackbed into one “human intervention” theme)\n",
    "- Cross-referenced with ridership data to observe how disruptions map to behavioral shifts\n",
    "\n",
    "We also did some aggregation to allow for heatmaps and line-by-line breakdowns, like this:\n",
    "\n",
    "```python\n",
    "# Simplified grouping by month and category\n",
    "incidents['date'] = pd.to_datetime(incidents['Month']).dt.to_period('M').dt.to_timestamp()\n",
    "monthly_incidents = incidents.groupby(['date', 'Category']).sum().reset_index()\n",
    "```\n",
    "\n",
    "\n",
    "Together, these preprocessing steps were crucial not just for analysis—but for storytelling. Without transforming time and cleaning categories, the human patterns we wanted to spotlight—midnight crowd surges, quiet pandemic lulls, chaotic incident peaks—would have stayed buried in the noise.\n",
    "\n",
    "<!--\n",
    "Why?\n",
    "Because human stories do not live in timestamps—they live in hours and days. We needed to know:\n",
    "\n",
    "* What happens at 8 AM on a Monday?\n",
    "* How do late-night entries change on New Year’s Eve?\n",
    "* What’s the average 6 PM weekday crowd compared to a Saturday?\n",
    "\n",
    "Extracting date and hour helped us group the data meaningfully, so we could build visualisations like hourly ridership patterns, event overlays, and weekend vs. weekday comparisons. Without this step, all of those stories would have stayed hidden in raw strings of numbers.\n",
    "-->"
   ]
  },
  {
   "cell_type": "code",
   "execution_count": 1,
   "metadata": {},
   "outputs": [],
   "source": [
    "import matplotlib.pyplot as plt\n",
    "import pandas as pd\n",
    "import matplotlib.pyplot as plt\n",
    "import numpy as np\n",
    "import seaborn as sns\n",
    "from datetime import datetime\n",
    "import matplotlib.dates as mdates\n",
    "from matplotlib.ticker import FuncFormatter\n",
    "import folium\n",
    "from folium.plugins import HeatMap\n",
    "import matplotlib.colors as mcolors"
   ]
  },
  {
   "cell_type": "code",
   "execution_count": 3,
   "metadata": {},
   "outputs": [
    {
     "name": "stdout",
     "output_type": "stream",
     "text": [
      "        transit_timestamp transit_mode station_complex_id  \\\n",
      "0  05/31/2021 05:00:00 PM       subway                250   \n",
      "1  05/31/2021 09:00:00 AM       subway                318   \n",
      "2  05/31/2021 09:00:00 AM       subway                385   \n",
      "3  05/31/2021 08:00:00 PM       subway                198   \n",
      "4  05/31/2021 09:00:00 PM       subway                  2   \n",
      "\n",
      "                station_complex    borough payment_method  \\\n",
      "0                 Kings Hwy (F)   Brooklyn      metrocard   \n",
      "1    34 St-Penn Station (1,2,3)  Manhattan      metrocard   \n",
      "2                    176 St (4)      Bronx      metrocard   \n",
      "3  Howard Beach-JFK Airport (A)     Queens      metrocard   \n",
      "4            Astoria Blvd (N,W)     Queens      metrocard   \n",
      "\n",
      "            fare_class_category  ridership  transfers   latitude  longitude  \\\n",
      "0          Metrocard - Students          3          0  40.603218  -73.97236   \n",
      "1  Metrocard - Unlimited 30-Day         43          0  40.750374  -73.99106   \n",
      "2         Metrocard - Fair Fare         11          0  40.848480  -73.91180   \n",
      "3   Metrocard - Unlimited 7-Day          1          0  40.660477  -73.83030   \n",
      "4  Metrocard - Unlimited 30-Day          5          0  40.770260  -73.91785   \n",
      "\n",
      "                  Georeference  \n",
      "0  POINT (-73.97236 40.603218)  \n",
      "1  POINT (-73.99106 40.750374)  \n",
      "2    POINT (-73.9118 40.84848)  \n",
      "3   POINT (-73.8303 40.660477)  \n",
      "4   POINT (-73.91785 40.77026)  \n"
     ]
    }
   ],
   "source": [
    "# Importing dataset in chunks to handle memory issues\n",
    "# filepath = r\"C:/Users/clara/OneDrive - Danmarks Tekniske Universitet/Skrivebord/DTU/Human Centeret Artificial Intelligence/2. semester/02806_Social_Data_Analysis_and_Visualization/MTA_Subway_Hourly_Ridership__2020-2024_20250408.csv\"\n",
    "filepath = r\"C:/Users/poltr/OneDrive - udl.cat\\Desktop/MTA_Subway_Hourly_Ridership__2020-2024_20250408.csv\"\n",
    "\n",
    "# Load the first chunk to inspect the data\n",
    "chunk_size = 100000  # Adjust the chunk size as needed\n",
    "chunk_iter = pd.read_csv(filepath, chunksize=chunk_size)\n",
    "\n",
    "# Combine the first few chunks to inspect the data\n",
    "df = pd.concat([chunk for _, chunk in zip(range(5), chunk_iter)], ignore_index=True)\n",
    "\n",
    "# Display the first few rows of the combined dataset\n",
    "print(df.head())"
   ]
  },
  {
   "cell_type": "code",
   "execution_count": 12,
   "metadata": {},
   "outputs": [
    {
     "name": "stdout",
     "output_type": "stream",
     "text": [
      "Dataset size: 500000 rows and 12 columns\n"
     ]
    }
   ],
   "source": [
    "# Display the dataset size and columns\n",
    "print(f\"Dataset size: {df.shape[0]} rows and {df.shape[1]} columns\")"
   ]
  },
  {
   "cell_type": "code",
   "execution_count": 13,
   "metadata": {},
   "outputs": [
    {
     "name": "stdout",
     "output_type": "stream",
     "text": [
      "Index(['month', 'division', 'line', 'day_type', 'category', 'count'], dtype='object')\n",
      "        month    division line  day_type                            category  \\\n",
      "0  2024-12-01  A DIVISION    1         1                               Other   \n",
      "1  2024-12-01  A DIVISION    1         1  Persons on Trackbed/Police/Medical   \n",
      "2  2024-12-01  A DIVISION    1         1                             Signals   \n",
      "3  2024-12-01  A DIVISION    2         1                          Subway Car   \n",
      "4  2024-12-01  A DIVISION    2         1                             Signals   \n",
      "\n",
      "   count  \n",
      "0      1  \n",
      "1      1  \n",
      "2      2  \n",
      "3      1  \n",
      "4      3  \n"
     ]
    }
   ],
   "source": [
    "filepath = r\"C:/Users/clara/OneDrive - Danmarks Tekniske Universitet/Skrivebord/DTU/Human Centeret Artificial Intelligence/2. semester/02806_Social_Data_Analysis_and_Visualization/MTA_Subway_Major_Incidents__Beginning_2020_20250429.csv\"\n",
    "df = pd.read_csv(filepath)\n",
    "\n",
    "print(df.columns)\n",
    "print(df.head())"
   ]
  },
  {
   "cell_type": "code",
   "execution_count": 14,
   "metadata": {},
   "outputs": [
    {
     "name": "stdout",
     "output_type": "stream",
     "text": [
      "Dataset size: 2018 rows and 6 columns\n"
     ]
    }
   ],
   "source": [
    "# display the dataset size and columns\n",
    "print(f\"Dataset size: {df.shape[0]} rows and {df.shape[1]} columns\")"
   ]
  },
  {
   "cell_type": "markdown",
   "metadata": {},
   "source": [
    "> Write a short section that discusses the dataset stats, containing key points/plots from your exploratory data analysis.\n",
    "\n",
    "Once cleaned, we dove into the data like rush hour at Grand Central—only this time, we weren’t just tracking who showed up, but what went wrong when they did.\n",
    "\n",
    "Two datasets:\n",
    "* **Ridership:** Over 280 million entries across 472 stations, covering 2020–2024 with hourly granularity.\n",
    "* **Incidents:** Thousands of major subway disruptions, categorized by type—from signal failures to medical emergencies—tracked monthly across the same time span.\n",
    "\n",
    "Together, they let us observe how the subway moves—and how it breaks.\n",
    "\n",
    "<!-- \n",
    "* **Size**: Over 280 million entries** across **500+ unique stations**, covering **2020–2024**.\n",
    "* **Granularity**: Hourly turnstile counts, letting us track **minute-by-minute shifts** in city behaviour.\n",
    "* **Coverage**: Every borough, every station, every day—including **lockdowns**, **storms**, **holidays**, and **historic protests**.\n",
    "-->\n",
    "\n",
    "From our analysis, a few clear patterns emerged:\n",
    "\n",
    "* **Weekday Peaks**: Regular surges during 7–9 AM and 5–7 PM, matching commuter flows.\n",
    "* **Pandemic Collapse**: Ridership bottomed out during March–April 2020, while incident reports also dropped—mirroring the city's shutdown.\n",
    "* **Incident Trends**: Categories like \"Persons on Trackbed/Police/Medical\" and \"Signal Failures\" dominate the disruption landscape.\n",
    "* **Event Surges**: Sudden spikes around big events—marathons, protests, holidays—show up clearly in station-level usage and crowd pressure.\n",
    "\n",
    "<!--\n",
    "* **Weekday Peaks**: Predictable morning (7–9 AM) and evening (5–7 PM) rushes.\n",
    "* **Pandemic Drop**: A sharp fall in ridership during spring 2020, bottoming out in April.\n",
    "* **Event Spikes**: Localised surges during marathons, parades, and holidays—especially at stations like **Times Sq–42 St**, **Columbus Circle**, and **Atlantic Av–Barclays Ctr**.\n",
    "-->\n",
    "\n",
    "\n",
    "We visualized this in many ways to build a layered narrative:\n",
    "* Hourly and weekly ridership histograms to show commuter rhythms\n",
    "* Date-category heatmaps of major subway incidents\n",
    "* Bar and line charts to compare monthly incident volumes with ridership\n",
    "* Event overlays to align subway behavior with city milestones\n",
    "\n",
    "This phase gave us the skeleton for our story: a timeline of the city’s movement, reaction, and stress—seen through turnstiles and track failures.\n",
    "\n",
    "<!--\n",
    "We also created:\n",
    "\n",
    "* Ridership histograms by hour and weekday\n",
    "* Heatmaps of station-level usage on special dates\n",
    "* Bar charts showing drops tied to major disruptions (e.g., signal failures, snowstorms)\n",
    "\n",
    "This stage let us frame our story: not as a static chart, but as a moving timeline—one tap at a time.\n",
    "\n",
    "# **This is a comment section (till here)**\n",
    "-->"
   ]
  },
  {
   "cell_type": "markdown",
   "metadata": {},
   "source": [
    "### Borough-Level Ridership"
   ]
  },
  {
   "cell_type": "code",
   "execution_count": 4,
   "metadata": {},
   "outputs": [
    {
     "data": {
      "image/png": "[encoded data removed]",
      "text/plain": [
       "<Figure size 800x800 with 2 Axes>"
      ]
     },
     "metadata": {},
     "output_type": "display_data"
    }
   ],
   "source": [
    "# Clean\n",
    "df = df.dropna(subset=['borough', 'ridership'])\n",
    "df = df[df['ridership'] > 0]\n",
    "# Aggregate borough ridership\n",
    "borough_usage = df.groupby('borough')['ridership'].sum().reset_index()\n",
    "borough_usage = borough_usage.sort_values(by='ridership', ascending=False)\n",
    "# Extract values\n",
    "labels = borough_usage['borough'].tolist()\n",
    "values = borough_usage['ridership'].values\n",
    "normed_values = values / values.max()  # for colormap\n",
    "# Define angles\n",
    "angles = np.linspace(0, 2 * np.pi, len(values), endpoint=False)\n",
    "width = 2 * np.pi / len(values)\n",
    "# Color mapping\n",
    "colors = plt.cm.viridis(normed_values)\n",
    "\n",
    "# Set the font family to a sans-serif font similar to Helvetica\n",
    "plt.rcParams['font.family'] = 'sans-serif'\n",
    "# Use Arial as the primary sans-serif font (widely available and similar to Helvetica)\n",
    "plt.rcParams['font.sans-serif'] = ['Arial', 'DejaVu Sans', 'Helvetica Neue', 'Helvetica', 'Liberation Sans', 'sans-serif']\n",
    "\n",
    "# Plotting\n",
    "fig, ax = plt.subplots(figsize=(8, 8), subplot_kw={'projection': 'polar'})\n",
    "bars = ax.bar(angles, values, width=width * 0.9, color=colors, edgecolor='black')\n",
    "# Clock-style layout\n",
    "ax.set_theta_offset(np.pi / 2)       # Start at top\n",
    "ax.set_theta_direction(-1)           # Go clockwise\n",
    "ax.set_yticklabels([])               # Hide radial labels\n",
    "ax.set_xticks(angles)                # Set ticks\n",
    "ax.set_xticklabels(labels, fontsize=18, fontfamily='sans-serif')\n",
    "# Add color bar\n",
    "sm = plt.cm.ScalarMappable(cmap='viridis', norm=mcolors.Normalize(vmin=values.min(), vmax=values.max()))\n",
    "sm.set_array([])\n",
    "cbar = plt.colorbar(sm, ax=ax, orientation='vertical', shrink=0.7, pad=0.1)\n",
    "cbar.set_label('Total Ridership', fontsize=18, fontfamily='sans-serif')\n",
    "cbar.ax.tick_params(labelsize=10)\n",
    "# Make sure colorbar ticks also use Helvetica\n",
    "for label in cbar.ax.get_yticklabels():\n",
    "    label.set_fontfamily('sans-serif')\n",
    "\n",
    "# Add title\n",
    "ax.set_title('NYC Subway Ridership by Borough', \n",
    "             fontsize=20, \n",
    "             fontweight='bold', \n",
    "             pad=20,\n",
    "             fontfamily='sans-serif')\n",
    "# Change font properties\n",
    "plt.tight_layout()\n",
    "plt.show()\n"
   ]
  },
  {
   "cell_type": "markdown",
   "metadata": {},
   "source": [
    "### Temporal Data Analysis"
   ]
  },
  {
   "cell_type": "code",
   "execution_count": 5,
   "metadata": {},
   "outputs": [
    {
     "name": "stderr",
     "output_type": "stream",
     "text": [
      "C:\\Users\\poltr\\AppData\\Local\\Temp\\ipykernel_17612\\2661661267.py:2: UserWarning: Could not infer format, so each element will be parsed individually, falling back to `dateutil`. To ensure parsing is consistent and as-expected, please specify a format.\n",
      "  df['transit_timestamp'] = pd.to_datetime(df['transit_timestamp'], errors='coerce')\n"
     ]
    },
    {
     "data": {
      "image/png": "[encoded data removed]",
      "text/plain": [
       "<Figure size 1200x600 with 1 Axes>"
      ]
     },
     "metadata": {},
     "output_type": "display_data"
    }
   ],
   "source": [
    "# Convert timestamp to datetime and extract hour\n",
    "df['transit_timestamp'] = pd.to_datetime(df['transit_timestamp'], errors='coerce')\n",
    "df = df.dropna(subset=['transit_timestamp', 'ridership'])  # drop rows with missing timestamps or ridership\n",
    "df['hour'] = df['transit_timestamp'].dt.hour\n",
    "\n",
    "# Set the font family to a sans-serif font similar to Helvetica\n",
    "plt.rcParams['font.family'] = 'sans-serif'\n",
    "# Use Arial as the primary sans-serif font (widely available and similar to Helvetica)\n",
    "plt.rcParams['font.sans-serif'] = ['Arial', 'DejaVu Sans', 'Helvetica Neue', 'Helvetica', 'Liberation Sans', 'sans-serif']\n",
    "\n",
    "# Plot histogram of hourly ridership\n",
    "plt.figure(figsize=(12, 6))\n",
    "\n",
    "# Compute the histogram data manually to apply custom colors\n",
    "hours = df['hour']\n",
    "weights = df['ridership']\n",
    "bins = np.arange(0, 25, 1)\n",
    "\n",
    "# Compute histogram\n",
    "hist, bin_edges = np.histogram(hours, bins=bins, weights=weights)\n",
    "\n",
    "# Plot the histogram with specific hex color\n",
    "plt.bar(bin_edges[:-1], hist, width=1, edgecolor='black', color='#00a48f', align='edge')\n",
    "\n",
    "# Set title and labels with explicit font family\n",
    "plt.title('Hourly Ridership (All NYC Subway Stations)',\n",
    "          fontsize=20,\n",
    "          fontfamily='sans-serif',\n",
    "          fontweight='bold')\n",
    "plt.xlabel('Hour of Day', fontsize=18, fontfamily='sans-serif')\n",
    "plt.ylabel('Total Ridership', fontsize=18, fontfamily='sans-serif')\n",
    "\n",
    "# Set tick parameters with the same font\n",
    "plt.xticks(range(0, 25), fontfamily='sans-serif')\n",
    "plt.yticks(fontfamily='sans-serif')\n",
    "\n",
    "plt.grid(axis='y', alpha=0.3)\n",
    "plt.tight_layout()\n",
    "plt.show()"
   ]
  },
  {
   "cell_type": "markdown",
   "metadata": {},
   "source": [
    "### Heatmap "
   ]
  },
  {
   "cell_type": "code",
   "execution_count": 6,
   "metadata": {},
   "outputs": [
    {
     "data": {
      "text/html": [
       "<div style=\"width:100%;\"><div style=\"position:relative;width:100%;height:0;padding-bottom:60%;\"><span style=\"color:#565656\">Make this Notebook Trusted to load map: File -> Trust Notebook</span><iframe srcdoc=\"&lt;!DOCTYPE html&gt;\n",
       "&lt;html&gt;\n",
       "&lt;head&gt;\n",
       "    \n",
       "    &lt;meta http-equiv=&quot;content-type&quot; content=&quot;text/html; charset=UTF-8&quot; /&gt;\n",
       "    \n",
       "        &lt;script&gt;\n",
       "            L_NO_TOUCH = false;\n",
       "            L_DISABLE_3D = false;\n",
       "        &lt;/script&gt;\n",
       "    \n",
       "    &lt;style&gt;html, body {width: 100%;height: 100%;margin: 0;padding: 0;}&lt;/style&gt;\n",
       "    &lt;style&gt;#map {position:absolute;top:0;bottom:0;right:0;left:0;}&lt;/style&gt;\n",
       "    &lt;script src=&quot;https://cdn.jsdelivr.net/npm/leaflet@1.9.3/dist/leaflet.js&quot;&gt;&lt;/script&gt;\n",
       "    &lt;script src=&quot;https://code.jquery.com/jquery-3.7.1.min.js&quot;&gt;&lt;/script&gt;\n",
       "    &lt;script src=&quot;https://cdn.jsdelivr.net/npm/bootstrap@5.2.2/dist/js/bootstrap.bundle.min.js&quot;&gt;&lt;/script&gt;\n",
       "    &lt;script src=&quot;https://cdnjs.cloudflare.com/ajax/libs/Leaflet.awesome-markers/2.0.2/leaflet.awesome-markers.js&quot;&gt;&lt;/script&gt;\n",
       "    &lt;link rel=&quot;stylesheet&quot; href=&quot;https://cdn.jsdelivr.net/npm/leaflet@1.9.3/dist/leaflet.css&quot;/&gt;\n",
       "    &lt;link rel=&quot;stylesheet&quot; href=&quot;https://cdn.jsdelivr.net/npm/bootstrap@5.2.2/dist/css/bootstrap.min.css&quot;/&gt;\n",
       "    &lt;link rel=&quot;stylesheet&quot; href=&quot;https://netdna.bootstrapcdn.com/bootstrap/3.0.0/css/bootstrap-glyphicons.css&quot;/&gt;\n",
       "    &lt;link rel=&quot;stylesheet&quot; href=&quot;https://cdn.jsdelivr.net/npm/@fortawesome/fontawesome-free@6.2.0/css/all.min.css&quot;/&gt;\n",
       "    &lt;link rel=&quot;stylesheet&quot; href=&quot;https://cdnjs.cloudflare.com/ajax/libs/Leaflet.awesome-markers/2.0.2/leaflet.awesome-markers.css&quot;/&gt;\n",
       "    &lt;link rel=&quot;stylesheet&quot; href=&quot;https://cdn.jsdelivr.net/gh/python-visualization/folium/folium/templates/leaflet.awesome.rotate.min.css&quot;/&gt;\n",
       "    \n",
       "            &lt;meta name=&quot;viewport&quot; content=&quot;width=device-width,\n",
       "                initial-scale=1.0, maximum-scale=1.0, user-scalable=no&quot; /&gt;\n",
       "            &lt;style&gt;\n",
       "                #map_027ab67b7807417b88c50635a8c77502 {\n",
       "                    position: relative;\n",
       "                    width: 100.0%;\n",
       "                    height: 100.0%;\n",
       "                    left: 0.0%;\n",
       "                    top: 0.0%;\n",
       "                }\n",
       "                .leaflet-container { font-size: 1rem; }\n",
       "            &lt;/style&gt;\n",
       "        \n",
       "    &lt;script src=&quot;https://cdn.jsdelivr.net/gh/python-visualization/folium@main/folium/templates/leaflet_heat.min.js&quot;&gt;&lt;/script&gt;\n",
       "&lt;/head&gt;\n",
       "&lt;body&gt;\n",
       "    \n",
       "    \n",
       "            &lt;div class=&quot;folium-map&quot; id=&quot;map_027ab67b7807417b88c50635a8c77502&quot; &gt;&lt;/div&gt;\n",
       "        \n",
       "&lt;/body&gt;\n",
       "&lt;script&gt;\n",
       "    \n",
       "    \n",
       "            var map_027ab67b7807417b88c50635a8c77502 = L.map(\n",
       "                &quot;map_027ab67b7807417b88c50635a8c77502&quot;,\n",
       "                {\n",
       "                    center: [40.7128, -74.006],\n",
       "                    crs: L.CRS.EPSG3857,\n",
       "                    ...{\n",
       "  &quot;zoom&quot;: 11,\n",
       "  &quot;zoomControl&quot;: true,\n",
       "  &quot;preferCanvas&quot;: false,\n",
       "}\n",
       "\n",
       "                }\n",
       "            );\n",
       "\n",
       "            \n",
       "\n",
       "        \n",
       "    \n",
       "            var tile_layer_12885bc15b270aaf930b7e40d03383b5 = L.tileLayer(\n",
       "                &quot;https://tile.openstreetmap.org/{z}/{x}/{y}.png&quot;,\n",
       "                {\n",
       "  &quot;minZoom&quot;: 0,\n",
       "  &quot;maxZoom&quot;: 19,\n",
       "  &quot;maxNativeZoom&quot;: 19,\n",
       "  &quot;noWrap&quot;: false,\n",
       "  &quot;attribution&quot;: &quot;\\u0026copy; \\u003ca href=\\&quot;https://www.openstreetmap.org/copyright\\&quot;\\u003eOpenStreetMap\\u003c/a\\u003e contributors&quot;,\n",
       "  &quot;subdomains&quot;: &quot;abc&quot;,\n",
       "  &quot;detectRetina&quot;: false,\n",
       "  &quot;tms&quot;: false,\n",
       "  &quot;opacity&quot;: 1,\n",
       "}\n",
       "\n",
       "            );\n",
       "        \n",
       "    \n",
       "            tile_layer_12885bc15b270aaf930b7e40d03383b5.addTo(map_027ab67b7807417b88c50635a8c77502);\n",
       "        \n",
       "    \n",
       "            var heat_map_299b320bdc106820f99a4cba590a3bff = L.heatLayer(\n",
       "                [[40.576126, -73.97594, 10.902], [40.576313, -73.9685, 11.839], [40.577423, -73.98123, 76.386], [40.57762, -73.96137, 37.252], [40.580902, -73.835594, 3.307], [40.581013, -73.97457, 1.023], [40.58321, -73.82756, 1.574], [40.585308, -73.82056, 2.135], [40.586895, -73.954155, 30.839], [40.588036, -73.813644, 5.934], [40.58884, -73.983765, 9.033], [40.58962, -73.97425, 1.836], [40.590927, -73.79692, 8.059], [40.592373, -73.78852, 4.823], [40.59272, -73.97823, 9.583], [40.59294, -73.77602, 1.698], [40.595245, -73.95516, 11.85], [40.595398, -73.76817, 1.798], [40.59606, -73.97336, 1.518], [40.597473, -73.97913, 13.462], [40.597706, -73.98683, 14.225], [40.5993, -73.95593, 22.473], [40.600067, -73.76135, 2.845], [40.601875, -73.99373, 27.033], [40.603218, -73.97236, 5.048], [40.603924, -73.980354, 18.555], [40.603996, -73.7554, 8.336], [40.604557, -73.99817, 17.762], [40.607952, -74.00174, 21.123], [40.608383, -73.815926, 0.701], [40.60867, -73.95773, 48.466], [40.608944, -73.97302, 2.641], [40.611816, -73.98185, 24.848], [40.613503, -74.00061, 19.815], [40.61514, -73.9742, 2.503], [40.616623, -74.030876, 16.847], [40.61741, -73.98502, 11.643], [40.61762, -73.9594, 14.191], [40.61959, -73.99886, 17.608], [40.62067, -73.99042, 19.652], [40.62077, -73.975266, 1.085], [40.62269, -74.0284, 32.43], [40.624844, -73.99635, 1.473], [40.62504, -73.9608, 15.014], [40.62532, -73.97613, 1.494], [40.626472, -73.996895, 0.062], [40.626472, -73.99635, 14.411], [40.62927, -73.96164, 7.798], [40.62974, -74.02551, 13.654], [40.629753, -73.976974, 3.918], [40.631386, -74.00535, 22.336], [40.631435, -73.995476, 4.456], [40.632835, -73.94764, 35.521], [40.634968, -74.02338, 22.886], [40.635063, -74.01172, 43.295], [40.635082, -73.96279, 28.576], [40.63612, -73.97817, 4.45], [40.63626, -73.99479, 9.101], [40.636948, -74.07484, 1.301], [40.63997, -73.94841, 15.367], [40.640915, -73.9943, 11.139], [40.640926, -73.96389, 22.598], [40.64136, -74.01788, 36.215], [40.64375, -74.07365, 11.487], [40.64403, -73.96449, 14.421], [40.64404, -73.979675, 31.222], [40.64507, -74.01403, 28.702], [40.6451, -73.94896, 11.081], [40.646294, -73.99432, 18.964], [40.646652, -73.90185, 10.371], [40.648937, -74.01001, 30.255], [40.650528, -73.96298, 47.885], [40.650574, -73.89948, 6.334], [40.650784, -73.97578, 17.452], [40.650845, -73.94958, 22.847], [40.655144, -74.00355, 46.336], [40.655293, -73.961494, 30.699], [40.65665, -73.9502, 15.906], [40.658733, -73.89923, 9.431], [40.660366, -73.97949, 20.036], [40.660397, -73.99809, 11.508], [40.660477, -73.8303, 11.353], [40.661453, -73.91633, 10.498], [40.661613, -73.96225, 41.889], [40.662548, -73.90894, 9.827], [40.662743, -73.95085, 15.089], [40.663513, -73.90245, 6.241], [40.66404, -73.90057, 7.502], [40.664635, -73.8949, 9.417], [40.66472, -73.92261, 14.737], [40.665413, -73.992874, 17.364], [40.665447, -73.8894, 5.354], [40.666237, -73.88408, 11.623], [40.66627, -73.98031, 34.942], [40.667885, -73.95068, 9.588], [40.668236, -73.83406, 1.884], [40.668896, -73.932945, 75.879], [40.66937, -73.90198, 6.737], [40.6694, -73.94216, 14.443], [40.669846, -73.95046, 15.478], [40.670273, -73.98978, 0.725], [40.67034, -73.95924, 0.016], [40.67068, -73.95813, 64.622], [40.67085, -73.988304, 47.756], [40.671986, -73.96438, 16.735], [40.672096, -73.83592, 5.466], [40.67271, -73.89036, 8.351], [40.67358, -73.99596, 11.566], [40.67413, -73.88075, 8.739], [40.67454, -73.896545, 6.74], [40.67477, -73.95763, 5.733], [40.675236, -73.97105, 25.885], [40.675346, -73.9031, 4.474], [40.675377, -73.87211, 30.9], [40.67699, -73.89865, 5.38], [40.677044, -73.86505, 17.684], [40.67705, -73.97237, 35.701], [40.677315, -73.98311, 21.728], [40.678024, -73.891685, 7.639], [40.678333, -73.90532, 25.032], [40.67834, -73.91195, 18.336], [40.67882, -73.920784, 19.268], [40.679363, -73.93073, 51.315], [40.67937, -73.85899, 13.732], [40.679844, -73.85147, 8.21], [40.67992, -73.94086, 24.24], [40.679947, -73.884636, 6.92], [40.6803, -73.99505, 29.716], [40.680428, -73.84386, 23.606], [40.68044, -73.950424, 63.58], [40.68083, -73.9751, 13.1], [40.68138, -73.95685, 22.511], [40.68141, -73.880035, 7.024], [40.68171, -73.837685, 4.608], [40.68283, -73.90525, 9.225], [40.68289, -73.91045, 9.084], [40.683193, -73.87379, 11.494], [40.68326, -73.965836, 24.441], [40.683666, -73.97881, 0.078], [40.68433, -73.83216, 5.809], [40.68436, -73.97767, 1.708], [40.68446, -73.97689, 159.496], [40.68595, -73.8258, 18.629], [40.68611, -73.973946, 24.565], [40.686146, -73.99086, 34.111], [40.68637, -73.91656, 18.809], [40.68712, -73.97537, 21.356], [40.688087, -73.96684, 16.225], [40.688248, -73.98049, 34.581], [40.688484, -73.985, 44.998], [40.688763, -73.904045, 15.821], [40.688873, -73.96007, 16.331], [40.68963, -73.95352, 30.356], [40.68963, -73.92227, 21.795], [40.68994, -73.87255, 3.758], [40.690544, -73.98506, 26.657], [40.690636, -73.98183, 63.379], [40.691322, -73.86714, 7.938], [40.69218, -73.98594, 0.007], [40.692337, -73.98734, 9.393], [40.692337, -73.98594, 91.092], [40.692406, -73.99015, 0.563], [40.692436, -73.86001, 10.97], [40.69322, -73.99, 45.712], [40.69334, -73.92882, 19.273], [40.69388, -73.85158, 10.39], [40.6941, -73.991776, 0.004], [40.6941, -73.99015, 0.044], [40.6941, -73.99, 20.762], [40.69457, -73.94904, 10.645], [40.69518, -73.84433, 7.273], [40.695602, -73.90408, 30.207], [40.69721, -73.93565, 40.23], [40.69742, -73.83634, 5.912], [40.697468, -73.99309, 22.591], [40.697857, -73.9274, 7.869], [40.698666, -73.91971, 8.778], [40.699337, -73.99053, 39.197], [40.699814, -73.91158, 92.156], [40.70026, -73.941124, 20.381], [40.70038, -73.95023, 5.01], [40.700485, -73.80797, 74.961], [40.700493, -73.82829, 6.963], [40.701397, -73.98675, 52.3], [40.70207, -74.013664, 12.671], [40.70215, -73.80111, 56.623], [40.702564, -73.81686, 10.57], [40.702763, -73.90774, 5.644], [40.703087, -74.01299, 76.881], [40.70381, -73.91843, 47.771], [40.70387, -73.94741, 11.683], [40.704422, -73.903076, 8.857], [40.70482, -74.01407, 61.5], [40.70546, -73.81071, 11.341], [40.706093, -73.95031, 9.536], [40.706154, -73.93314, 35.166], [40.706184, -73.895874, 12.419], [40.706474, -74.011055, 15.967], [40.706608, -73.92291, 41.932], [40.70682, -74.0091, 41.652], [40.70687, -73.95343, 12.222], [40.70722, -74.01334, 11.418], [40.70751, -74.01379, 28.998], [40.707558, -74.01186, 43.997], [40.707565, -73.80333, 18.966], [40.70774, -73.93985, 34.741], [40.70836, -73.957756, 41.602], [40.70918, -73.82057, 12.252], [40.709415, -74.00657, 0.023], [40.710197, -74.00769, 0.153], [40.710197, -74.00657, 0.463], [40.71037, -74.00951, 0.018], [40.71037, -74.00769, 0.391], [40.71037, -74.00657, 3.289], [40.710373, -74.00758, 0.397], [40.710373, -74.00657, 256.806], [40.71047, -73.7936, 19.856], [40.710667, -74.01103, 0.041], [40.711395, -73.8896, 7.194], [40.711834, -74.01219, 50.361], [40.711926, -73.94067, 24.168], [40.71258, -74.00978, 0.181], [40.712646, -73.78381, 40.634], [40.71279, -73.951416, 0.42], [40.71305, -74.00881, 0.014], [40.713066, -74.00413, 0.442], [40.71324, -74.0034, 64.569], [40.713284, -74.00698, 10.56], [40.713715, -73.99017, 55.019], [40.71406, -73.95027, 78.792], [40.71411, -74.00858, 132.936], [40.71444, -73.83101, 53.966], [40.714565, -73.94405, 37.789], [40.715477, -74.00927, 43.674], [40.717304, -73.95687, 188.291], [40.718094, -73.99989, 0.028], [40.718266, -73.99375, 88.159], [40.718315, -73.987434, 0.049], [40.71833, -73.837326, 7.725], [40.718613, -73.98811, 0.249], [40.718613, -73.987434, 122.87], [40.718803, -74.00019, 0.003], [40.718803, -73.99989, 0.004], [40.71932, -74.00689, 18.532], [40.71953, -74.00178, 0.422], [40.71953, -74.00019, 0.368], [40.71953, -73.99989, 190.124], [40.72028, -73.99391, 19.262], [40.720825, -74.005226, 52.528], [40.72169, -73.84452, 75.171], [40.7223, -73.99714, 62.937], [40.722855, -74.00628, 19.022], [40.7234, -73.98994, 79.213], [40.72433, -73.9977, 73.059], [40.724636, -73.95128, 19.378], [40.725296, -73.9962, 0.083], [40.725914, -73.99466, 159.564], [40.726227, -74.00374, 42.184], [40.726524, -73.85272, 18.059], [40.728252, -74.00536, 40.287], [40.729847, -73.8616, 38.833], [40.730053, -73.99107, 62.301], [40.730328, -73.99263, 63.719], [40.730953, -73.98163, 115.4], [40.731354, -73.95445, 19.439], [40.732338, -74.000496, 167.874], [40.73285, -73.98612, 31.965], [40.733105, -73.86923, 59.708], [40.73342, -74.00291, 61.534], [40.734673, -73.98995, 0.072], [40.735737, -73.99057, 0.134], [40.735737, -73.98995, 374.007], [40.737015, -73.87722, 49.608], [40.737335, -73.99679, 0.026], [40.737827, -74.0002, 0.268], [40.737827, -73.99679, 0.282], [40.738228, -73.99621, 188.933], [40.739777, -74.00258, 0.123], [40.739864, -73.9866, 66.75], [40.740894, -74.00169, 193.34], [40.74104, -73.99787, 26.809], [40.741302, -73.98934, 67.673], [40.742214, -73.94891, 6.556], [40.742455, -73.88202, 32.756], [40.742626, -73.95358, 58.65], [40.742878, -73.99282, 71.155], [40.74307, -73.98426, 62.157], [40.743134, -73.918434, 43.834], [40.743782, -73.92402, 30.85], [40.744064, -73.94972, 3.674], [40.74408, -73.99566, 50.366], [40.74415, -73.91255, 21.321], [40.744587, -73.931, 12.025], [40.745495, -73.98869, 44.773], [40.74563, -73.902985, 57.984], [40.745907, -73.99804, 56.437], [40.746082, -73.98208, 77.944], [40.746326, -73.8964, 22.549], [40.746555, -73.94383, 0.101], [40.746643, -73.891335, 2.679], [40.74685, -73.891396, 0.012], [40.74685, -73.891335, 222.903], [40.747025, -73.94527, 0.189], [40.747025, -73.94383, 1.386], [40.747215, -73.99336, 40.984], [40.747658, -73.8837, 56.944], [40.747845, -73.946, 0.032], [40.747845, -73.94527, 0.238], [40.747845, -73.94383, 69.465], [40.74841, -73.87661, 67.614], [40.748974, -73.93724, 34.094], [40.749146, -73.86953, 97.508], [40.749565, -73.98795, 0.084], [40.74967, -73.89845, 8.398], [40.749718, -73.98782, 405.614], [40.749866, -73.8627, 85.247], [40.750374, -73.99106, 218.446], [40.750584, -73.9402, 60.785], [40.75173, -73.85533, 39.27], [40.751778, -73.976845, 373.64], [40.75204, -73.92878, 6.664], [40.75229, -73.99339, 219.908], [40.75288, -73.932755, 11.21], [40.752884, -73.906006, 14.625], [40.753822, -73.981964, 0.03], [40.754204, -73.94283, 36.551], [40.754223, -73.984566, 0.917], [40.754223, -73.981964, 142.9], [40.754623, -73.84563, 51.276], [40.754673, -73.986755, 0.006], [40.75529, -73.987495, 0.082], [40.75529, -73.986755, 0.011], [40.755882, -74.00191, 79.133], [40.756313, -73.91333, 20.306], [40.756805, -73.92957, 20.269], [40.756878, -73.92074, 33.784], [40.757107, -73.97192, 0.076], [40.75731, -73.98974, 0.113], [40.75731, -73.987495, 4.457], [40.75731, -73.986755, 674.42], [40.75734, -73.95412, 24.483], [40.757553, -73.969055, 118.857], [40.758663, -73.98133, 151.602], [40.759144, -73.95326, 34.163], [40.7596, -73.83003, 209.214], [40.7599, -73.98414, 102.872], [40.760166, -73.97523, 16.903], [40.761337, -73.96416, 28.763], [40.761726, -73.98385, 92.293], [40.76182, -73.92551, 45.972], [40.762455, -73.985985, 77.086], [40.762527, -73.967964, 0.228], [40.76266, -73.967255, 169.528], [40.762863, -73.981636, 39.302], [40.763973, -73.97745, 62.039], [40.76463, -73.96611, 68.319], [40.764664, -73.98066, 124.969], [40.764812, -73.97335, 57.178], [40.76678, -73.92148, 48.94], [40.768143, -73.96387, 51.077], [40.768246, -73.981926, 0.022], [40.768295, -73.981735, 249.204], [40.7688, -73.95843, 71.48], [40.77026, -73.91785, 36.868], [40.77344, -73.98221, 67.8], [40.77362, -73.95988, 85.037], [40.775036, -73.91203, 52.371], [40.775593, -73.97641, 35.23], [40.77789, -73.95179, 80.403], [40.778454, -73.98197, 140.866], [40.77949, -73.95559, 168.485], [40.781433, -73.972145, 62.716], [40.783936, -73.97992, 56.343], [40.784317, -73.94715, 49.969], [40.78567, -73.95107, 48.295], [40.78587, -73.96892, 29.921], [40.788643, -73.97622, 63.135], [40.7906, -73.94748, 39.568], [40.79164, -73.9647, 23.014], [40.79392, -73.97232, 126.726], [40.79502, -73.94425, 34.542], [40.796093, -73.96146, 14.828], [40.79863, -73.94162, 47.76], [40.799076, -73.95182, 24.792], [40.799446, -73.968376, 50.157], [40.800602, -73.95816, 25.429], [40.802097, -73.94962, 32.214], [40.803967, -73.96685, 52.34], [40.80414, -73.93759, 75.31], [40.805084, -73.95488, 22.128], [40.805367, -73.91404, 6.365], [40.807568, -73.91924, 14.139], [40.80772, -73.96411, 46.393], [40.807755, -73.945496, 43.608], [40.80872, -73.90765, 2.056], [40.810474, -73.92614, 19.442], [40.811108, -73.95235, 83.721], [40.81212, -73.9041, 12.217], [40.813225, -73.92985, 11.753], [40.814228, -73.94077, 34.829], [40.815582, -73.958374, 32.097], [40.816105, -73.89644, 7.857], [40.81611, -73.917755, 54.414], [40.81649, -73.90781, 13.285], [40.817894, -73.94765, 13.453], [40.818375, -73.92735, 32.981], [40.819584, -73.90177, 18.372], [40.82042, -73.93625, 8.856], [40.82095, -73.89055, 24.126], [40.822006, -73.953674, 43.356], [40.82218, -73.896736, 9.144], [40.82388, -73.93647, 9.829], [40.824074, -73.89307, 22.455], [40.824783, -73.944214, 68.028], [40.826527, -73.886284, 4.819], [40.82655, -73.95036, 40.048], [40.827904, -73.92565, 0.235], [40.827995, -73.925835, 0.094], [40.827995, -73.92565, 115.555], [40.828583, -73.87916, 15.839], [40.82952, -73.87452, 16.763], [40.829994, -73.89187, 12.277], [40.830135, -73.93821, 10.027], [40.830517, -73.94151, 8.256], [40.83151, -73.867615, 11.954], [40.833225, -73.86082, 48.85], [40.83377, -73.91844, 18.348], [40.83404, -73.94489, 41.054], [40.834255, -73.85122, 10.677], [40.835537, -73.9214, 36.524], [40.836014, -73.939896, 13.458], [40.836487, -73.84704, 4.197], [40.837288, -73.88773, 17.988], [40.839306, -73.9134, 13.246], [40.839893, -73.84295, 7.565], [40.840076, -73.91779, 25.135], [40.840294, -73.88005, 18.497], [40.840557, -73.94013, 0.115], [40.840717, -73.93956, 92.792], [40.841892, -73.87349, 26.209], [40.843864, -73.83632, 2.764], [40.844433, -73.91469, 14.701], [40.8459, -73.91013, 6.704], [40.84681, -73.832565, 5.949], [40.84739, -73.939705, 22.944], [40.84848, -73.9118, 16.134], [40.848827, -73.868454, 6.575], [40.849506, -73.93359, 37.405], [40.85041, -73.90523, 10.73], [40.851696, -73.937965, 20.009], [40.852463, -73.82812, 13.031], [40.853455, -73.907684, 29.204], [40.854362, -73.8605, 5.068], [40.855225, -73.92941, 24.676], [40.856094, -73.90074, 6.995], [40.857193, -73.867615, 22.635], [40.858406, -73.90388, 19.258], [40.858986, -73.85536, 4.841], [40.85902, -73.93418, 8.485], [40.86053, -73.92554, 28.903], [40.861298, -73.89775, 15.648], [40.862804, -73.90103, 39.288], [40.86462, -73.91882, 23.853], [40.865463, -73.867355, 12.792], [40.86549, -73.92727, 14.164], [40.866978, -73.89351, 9.253], [40.86776, -73.89717, 29.505], [40.868073, -73.9199, 19.653], [40.869446, -73.915276, 7.697], [40.869526, -73.84638, 10.246], [40.871357, -73.867165, 7.237], [40.873245, -73.88714, 11.094], [40.873413, -73.89006, 16.878], [40.87456, -73.90983, 16.242], [40.87481, -73.87885, 6.996], [40.87785, -73.86626, 17.229], [40.878662, -73.83859, 5.947], [40.878857, -73.90483, 27.909], [40.87975, -73.88466, 25.721], [40.883896, -73.86263, 7.273], [40.884666, -73.90087, 13.341], [40.886036, -73.87875, 16.208], [40.888023, -73.860344, 8.314], [40.8883, -73.83083, 7.503], [40.889248, -73.89858, 20.586], [40.893192, -73.857475, 11.836], [40.89838, -73.85438, 7.358], [40.903126, -73.85062, 12.697]],\n",
       "                {\n",
       "  &quot;minOpacity&quot;: 0.5,\n",
       "  &quot;maxZoom&quot;: 1,\n",
       "  &quot;radius&quot;: 10,\n",
       "  &quot;blur&quot;: 8,\n",
       "}\n",
       "            );\n",
       "        \n",
       "    \n",
       "            heat_map_299b320bdc106820f99a4cba590a3bff.addTo(map_027ab67b7807417b88c50635a8c77502);\n",
       "        \n",
       "&lt;/script&gt;\n",
       "&lt;/html&gt;\" style=\"position:absolute;width:100%;height:100%;left:0;top:0;border:none !important;\" allowfullscreen webkitallowfullscreen mozallowfullscreen></iframe></div></div>"
      ],
      "text/plain": [
       "<folium.folium.Map at 0x1ee001a7cb0>"
      ]
     },
     "execution_count": 6,
     "metadata": {},
     "output_type": "execute_result"
    }
   ],
   "source": [
    "# Drop missing or invalid rows\n",
    "df = df.dropna(subset=['latitude', 'longitude', 'ridership'])\n",
    "\n",
    "# Optional: filter to remove weird outlier entries (e.g., zero or negative ridership)\n",
    "df = df[df['ridership'] > 0]\n",
    "\n",
    "# Aggregate ridership by station location\n",
    "station_usage = df.groupby(['latitude', 'longitude']).agg(\n",
    "    total_ridership=('ridership', 'sum')\n",
    ").reset_index()\n",
    "\n",
    "# Scale the ridership for display (adjust divisor if needed)\n",
    "station_usage['weight'] = station_usage['total_ridership'] / 1000\n",
    "\n",
    "# Convert to list of [lat, lon, weight]\n",
    "heat_data = station_usage[['latitude', 'longitude', 'weight']].values.tolist()\n",
    "\n",
    "# NYC coordinates\n",
    "nyc_latitude = 40.7128\n",
    "nyc_longitude = -74.0060\n",
    "\n",
    "# Create a folium map centered on NYC\n",
    "nyc_map = folium.Map(location=[nyc_latitude, nyc_longitude], zoom_start=11)\n",
    "\n",
    "# Add heatmap layer\n",
    "HeatMap(heat_data, radius=10, blur=8, max_zoom=1).add_to(nyc_map)\n",
    "\n",
    "# Display map in notebook (for Jupyter / Colab)\n",
    "nyc_map"
   ]
  },
  {
   "cell_type": "code",
   "execution_count": 20,
   "metadata": {},
   "outputs": [
    {
     "data": {
      "image/png": "[encoded data removed]",
      "text/plain": [
       "<Figure size 1600x2000 with 2 Axes>"
      ]
     },
     "metadata": {},
     "output_type": "display_data"
    }
   ],
   "source": [
    "# Ensure 'month' column is in datetime format\n",
    "df['month'] = pd.to_datetime(df['month'])\n",
    "\n",
    "# Create pivot table for the heatmap\n",
    "heatmap_data = df.pivot_table(index='month', columns='category', values='count', aggfunc='sum', fill_value=0)\n",
    "heatmap_data = heatmap_data.reindex(sorted(heatmap_data.columns), axis=1)  # Sort categories alphabetically\n",
    "\n",
    "# Convert index to string with format YYYY-MM-DD for better y-axis labels\n",
    "heatmap_data.index = heatmap_data.index.strftime('%Y-%m-%d')\n",
    "\n",
    "# --- HEATMAP 1: YlGnBu palette, NO annotations ---\n",
    "plt.figure(figsize=(16, 20))\n",
    "sns.heatmap(heatmap_data, cmap='YlGnBu', annot=False, linewidths=0.5)\n",
    "plt.title('Heatmap of NYC Subway Major Incidents by Month and Category', fontsize=30)\n",
    "plt.xlabel('Incident Category', fontsize=24)\n",
    "plt.ylabel('Month (YYYY-MM-DD)', fontsize=24)\n",
    "plt.xticks(rotation=55, fontsize=15)\n",
    "plt.yticks(fontsize=15)\n",
    "plt.tight_layout()\n",
    "plt.show()\n"
   ]
  },
  {
   "cell_type": "markdown",
   "metadata": {},
   "source": [
    "### Bar Plots"
   ]
  },
  {
   "cell_type": "code",
   "execution_count": 22,
   "metadata": {},
   "outputs": [
    {
     "data": {
      "application/vnd.plotly.v1+json": {
       "config": {
        "plotlyServerURL": "https://plot.ly"
       },
       "data": [
        {
         "hovertemplate": "<b>%{x|%B %Y}</b><br>Category: Other<br>Incidents: %{y:.2f}<extra></extra>",
         "marker": {
          "color": "rgb(57, 85, 139, 255)"
         },
         "name": "Other",
         "type": "bar",
         "x": [
          "2024-12-01T00:00:00",
          "2024-12-01T00:00:00",
          "2024-12-01T00:00:00",
          "2024-12-01T00:00:00",
          "2024-10-01T00:00:00",
          "2024-10-01T00:00:00",
          "2024-10-01T00:00:00",
          "2024-10-01T00:00:00",
          "2024-10-01T00:00:00",
          "2024-06-01T00:00:00",
          "2024-06-01T00:00:00",
          "2024-06-01T00:00:00",
          "2024-01-01T00:00:00",
          "2024-01-01T00:00:00",
          "2024-01-01T00:00:00",
          "2024-01-01T00:00:00",
          "2024-01-01T00:00:00"
         ],
         "y": [
          1,
          1,
          1,
          1,
          1,
          1,
          1,
          1,
          1,
          1,
          2,
          1,
          2,
          2,
          1,
          1,
          1
         ]
        },
        {
         "hovertemplate": "<b>%{x|%B %Y}</b><br>Category: Persons on Trackbed/Police/Medical<br>Incidents: %{y:.2f}<extra></extra>",
         "marker": {
          "color": "rgb(228, 227, 24, 255)"
         },
         "name": "Persons on Trackbed/Police/Medical",
         "type": "bar",
         "x": [
          "2024-12-01T00:00:00",
          "2024-12-01T00:00:00",
          "2024-12-01T00:00:00",
          "2024-12-01T00:00:00",
          "2024-12-01T00:00:00",
          "2024-12-01T00:00:00",
          "2024-12-01T00:00:00",
          "2024-12-01T00:00:00",
          "2024-12-01T00:00:00",
          "2024-12-01T00:00:00",
          "2024-12-01T00:00:00",
          "2024-12-01T00:00:00",
          "2024-12-01T00:00:00",
          "2024-12-01T00:00:00",
          "2024-12-01T00:00:00",
          "2024-12-01T00:00:00",
          "2024-10-01T00:00:00",
          "2024-10-01T00:00:00",
          "2024-10-01T00:00:00",
          "2024-10-01T00:00:00",
          "2024-10-01T00:00:00",
          "2024-10-01T00:00:00",
          "2024-06-01T00:00:00",
          "2024-06-01T00:00:00",
          "2024-06-01T00:00:00",
          "2024-06-01T00:00:00",
          "2024-06-01T00:00:00",
          "2024-06-01T00:00:00",
          "2024-06-01T00:00:00",
          "2024-06-01T00:00:00",
          "2024-06-01T00:00:00",
          "2024-06-01T00:00:00",
          "2024-06-01T00:00:00",
          "2024-06-01T00:00:00",
          "2024-01-01T00:00:00",
          "2024-01-01T00:00:00",
          "2024-01-01T00:00:00",
          "2024-01-01T00:00:00",
          "2024-01-01T00:00:00",
          "2024-01-01T00:00:00",
          "2024-01-01T00:00:00",
          "2024-01-01T00:00:00",
          "2024-01-01T00:00:00",
          "2024-01-01T00:00:00",
          "2024-01-01T00:00:00",
          "2024-01-01T00:00:00",
          "2024-01-01T00:00:00"
         ],
         "y": [
          1,
          3,
          1,
          1,
          3,
          2,
          1,
          1,
          1,
          1,
          2,
          1,
          1,
          2,
          1,
          1,
          1,
          1,
          1,
          1,
          1,
          2,
          2,
          1,
          1,
          2,
          1,
          1,
          3,
          1,
          1,
          2,
          1,
          2,
          3,
          5,
          2,
          1,
          2,
          1,
          1,
          2,
          2,
          2,
          1,
          1,
          2
         ]
        },
        {
         "hovertemplate": "<b>%{x|%B %Y}</b><br>Category: Signals<br>Incidents: %{y:.2f}<extra></extra>",
         "marker": {
          "color": "rgb(253, 231, 36, 255)"
         },
         "name": "Signals",
         "type": "bar",
         "x": [
          "2024-12-01T00:00:00",
          "2024-12-01T00:00:00",
          "2024-12-01T00:00:00",
          "2024-12-01T00:00:00",
          "2024-12-01T00:00:00",
          "2024-12-01T00:00:00",
          "2024-12-01T00:00:00",
          "2024-12-01T00:00:00",
          "2024-12-01T00:00:00",
          "2024-12-01T00:00:00",
          "2024-12-01T00:00:00",
          "2024-12-01T00:00:00",
          "2024-12-01T00:00:00",
          "2024-10-01T00:00:00",
          "2024-10-01T00:00:00",
          "2024-10-01T00:00:00",
          "2024-10-01T00:00:00",
          "2024-10-01T00:00:00",
          "2024-10-01T00:00:00",
          "2024-10-01T00:00:00",
          "2024-10-01T00:00:00",
          "2024-10-01T00:00:00",
          "2024-10-01T00:00:00",
          "2024-10-01T00:00:00",
          "2024-10-01T00:00:00",
          "2024-10-01T00:00:00",
          "2024-06-01T00:00:00",
          "2024-06-01T00:00:00",
          "2024-06-01T00:00:00",
          "2024-06-01T00:00:00",
          "2024-06-01T00:00:00",
          "2024-06-01T00:00:00",
          "2024-06-01T00:00:00",
          "2024-06-01T00:00:00",
          "2024-06-01T00:00:00",
          "2024-06-01T00:00:00",
          "2024-06-01T00:00:00",
          "2024-06-01T00:00:00",
          "2024-06-01T00:00:00",
          "2024-01-01T00:00:00",
          "2024-01-01T00:00:00",
          "2024-01-01T00:00:00",
          "2024-01-01T00:00:00",
          "2024-01-01T00:00:00",
          "2024-01-01T00:00:00",
          "2024-01-01T00:00:00",
          "2024-01-01T00:00:00",
          "2024-01-01T00:00:00",
          "2024-01-01T00:00:00",
          "2024-01-01T00:00:00"
         ],
         "y": [
          2,
          3,
          2,
          2,
          2,
          1,
          2,
          1,
          1,
          1,
          2,
          2,
          3,
          3,
          1,
          1,
          2,
          1,
          2,
          1,
          1,
          1,
          1,
          1,
          1,
          2,
          1,
          1,
          1,
          1,
          1,
          1,
          1,
          2,
          1,
          2,
          1,
          1,
          1,
          1,
          1,
          1,
          2,
          3,
          1,
          1,
          1,
          2,
          5,
          1
         ]
        },
        {
         "hovertemplate": "<b>%{x|%B %Y}</b><br>Category: Subway Car<br>Incidents: %{y:.2f}<extra></extra>",
         "marker": {
          "color": "rgb(38, 172, 129, 255)"
         },
         "name": "Subway Car",
         "type": "bar",
         "x": [
          "2024-12-01T00:00:00",
          "2024-12-01T00:00:00",
          "2024-12-01T00:00:00",
          "2024-12-01T00:00:00",
          "2024-12-01T00:00:00",
          "2024-12-01T00:00:00",
          "2024-12-01T00:00:00",
          "2024-12-01T00:00:00",
          "2024-12-01T00:00:00",
          "2024-12-01T00:00:00",
          "2024-10-01T00:00:00",
          "2024-10-01T00:00:00",
          "2024-10-01T00:00:00",
          "2024-10-01T00:00:00",
          "2024-06-01T00:00:00",
          "2024-06-01T00:00:00",
          "2024-06-01T00:00:00",
          "2024-06-01T00:00:00",
          "2024-06-01T00:00:00",
          "2024-01-01T00:00:00",
          "2024-01-01T00:00:00",
          "2024-01-01T00:00:00",
          "2024-01-01T00:00:00",
          "2024-01-01T00:00:00",
          "2024-01-01T00:00:00"
         ],
         "y": [
          1,
          1,
          1,
          7,
          6,
          1,
          1,
          5,
          1,
          3,
          1,
          2,
          1,
          5,
          1,
          1,
          1,
          1,
          1,
          1,
          1,
          1,
          1,
          1,
          1
         ]
        },
        {
         "hovertemplate": "<b>%{x|%B %Y}</b><br>Category: Track<br>Incidents: %{y:.2f}<extra></extra>",
         "marker": {
          "color": "rgb(31, 147, 139, 255)"
         },
         "name": "Track",
         "type": "bar",
         "x": [
          "2024-12-01T00:00:00",
          "2024-12-01T00:00:00",
          "2024-12-01T00:00:00",
          "2024-12-01T00:00:00",
          "2024-12-01T00:00:00",
          "2024-12-01T00:00:00",
          "2024-10-01T00:00:00",
          "2024-10-01T00:00:00",
          "2024-10-01T00:00:00",
          "2024-10-01T00:00:00",
          "2024-10-01T00:00:00",
          "2024-10-01T00:00:00",
          "2024-10-01T00:00:00",
          "2024-10-01T00:00:00",
          "2024-10-01T00:00:00",
          "2024-06-01T00:00:00",
          "2024-06-01T00:00:00",
          "2024-06-01T00:00:00",
          "2024-06-01T00:00:00",
          "2024-06-01T00:00:00",
          "2024-06-01T00:00:00",
          "2024-06-01T00:00:00",
          "2024-01-01T00:00:00",
          "2024-01-01T00:00:00",
          "2024-01-01T00:00:00",
          "2024-01-01T00:00:00",
          "2024-01-01T00:00:00",
          "2024-01-01T00:00:00",
          "2024-01-01T00:00:00",
          "2024-01-01T00:00:00",
          "2024-01-01T00:00:00",
          "2024-01-01T00:00:00",
          "2024-01-01T00:00:00"
         ],
         "y": [
          1,
          1,
          2,
          1,
          1,
          1,
          1,
          1,
          1,
          1,
          2,
          1,
          1,
          2,
          1,
          1,
          1,
          1,
          1,
          1,
          1,
          1,
          1,
          1,
          1,
          1,
          1,
          1,
          2,
          2,
          1,
          2,
          1
         ]
        },
        {
         "hovertemplate": "<b>%{x|%B %Y}</b><br>Category: Stations and Structure<br>Incidents: %{y:.2f}<extra></extra>",
         "marker": {
          "color": "rgb(71, 37, 117, 255)"
         },
         "name": "Stations and Structure",
         "type": "bar",
         "x": [
          "2024-12-01T00:00:00",
          "2024-12-01T00:00:00",
          "2024-12-01T00:00:00",
          "2024-06-01T00:00:00",
          "2024-06-01T00:00:00",
          "2024-01-01T00:00:00",
          "2024-01-01T00:00:00",
          "2024-01-01T00:00:00"
         ],
         "y": [
          1,
          1,
          1,
          1,
          1,
          1,
          1,
          1
         ]
        }
       ],
       "layout": {
        "annotations": [
         {
          "arrowhead": 1,
          "ax": 0,
          "ay": -40,
          "font": {
           "size": 14
          },
          "showarrow": true,
          "text": "Highest",
          "x": "2024-12-01T00:00:00",
          "y": 93
         },
         {
          "arrowhead": 1,
          "ax": 0,
          "ay": -40,
          "font": {
           "size": 14
          },
          "showarrow": true,
          "text": "2nd Highest",
          "x": "2024-01-01T00:00:00",
          "y": 79
         },
         {
          "arrowhead": 1,
          "ax": 0,
          "ay": -40,
          "font": {
           "size": 14
          },
          "showarrow": true,
          "text": "2nd Lowest",
          "x": "2024-06-01T00:00:00",
          "y": 56
         },
         {
          "arrowhead": 1,
          "ax": 0,
          "ay": -40,
          "font": {
           "size": 14
          },
          "showarrow": true,
          "text": "Lowest",
          "x": "2024-10-01T00:00:00",
          "y": 55
         }
        ],
        "bargap": 0.15,
        "bargroupgap": 0.1,
        "barmode": "group",
        "height": 700,
        "legend": {
         "bordercolor": "#e0e0e0",
         "borderwidth": 1,
         "font": {
          "size": 14
         },
         "title": {
          "font": {
           "size": 16
          },
          "text": "Incident Category"
         },
         "x": 1.4,
         "xanchor": "right",
         "y": 0.8,
         "yanchor": "top"
        },
        "margin": {
         "b": 100,
         "l": 80,
         "r": 250,
         "t": 80
        },
        "plot_bgcolor": "white",
        "template": {
         "data": {
          "bar": [
           {
            "error_x": {
             "color": "#2a3f5f"
            },
            "error_y": {
             "color": "#2a3f5f"
            },
            "marker": {
             "line": {
              "color": "#E5ECF6",
              "width": 0.5
             },
             "pattern": {
              "fillmode": "overlay",
              "size": 10,
              "solidity": 0.2
             }
            },
            "type": "bar"
           }
          ],
          "barpolar": [
           {
            "marker": {
             "line": {
              "color": "#E5ECF6",
              "width": 0.5
             },
             "pattern": {
              "fillmode": "overlay",
              "size": 10,
              "solidity": 0.2
             }
            },
            "type": "barpolar"
           }
          ],
          "carpet": [
           {
            "aaxis": {
             "endlinecolor": "#2a3f5f",
             "gridcolor": "white",
             "linecolor": "white",
             "minorgridcolor": "white",
             "startlinecolor": "#2a3f5f"
            },
            "baxis": {
             "endlinecolor": "#2a3f5f",
             "gridcolor": "white",
             "linecolor": "white",
             "minorgridcolor": "white",
             "startlinecolor": "#2a3f5f"
            },
            "type": "carpet"
           }
          ],
          "choropleth": [
           {
            "colorbar": {
             "outlinewidth": 0,
             "ticks": ""
            },
            "type": "choropleth"
           }
          ],
          "contour": [
           {
            "colorbar": {
             "outlinewidth": 0,
             "ticks": ""
            },
            "colorscale": [
             [
              0,
              "#0d0887"
             ],
             [
              0.1111111111111111,
              "#46039f"
             ],
             [
              0.2222222222222222,
              "#7201a8"
             ],
             [
              0.3333333333333333,
              "#9c179e"
             ],
             [
              0.4444444444444444,
              "#bd3786"
             ],
             [
              0.5555555555555556,
              "#d8576b"
             ],
             [
              0.6666666666666666,
              "#ed7953"
             ],
             [
              0.7777777777777778,
              "#fb9f3a"
             ],
             [
              0.8888888888888888,
              "#fdca26"
             ],
             [
              1,
              "#f0f921"
             ]
            ],
            "type": "contour"
           }
          ],
          "contourcarpet": [
           {
            "colorbar": {
             "outlinewidth": 0,
             "ticks": ""
            },
            "type": "contourcarpet"
           }
          ],
          "heatmap": [
           {
            "colorbar": {
             "outlinewidth": 0,
             "ticks": ""
            },
            "colorscale": [
             [
              0,
              "#0d0887"
             ],
             [
              0.1111111111111111,
              "#46039f"
             ],
             [
              0.2222222222222222,
              "#7201a8"
             ],
             [
              0.3333333333333333,
              "#9c179e"
             ],
             [
              0.4444444444444444,
              "#bd3786"
             ],
             [
              0.5555555555555556,
              "#d8576b"
             ],
             [
              0.6666666666666666,
              "#ed7953"
             ],
             [
              0.7777777777777778,
              "#fb9f3a"
             ],
             [
              0.8888888888888888,
              "#fdca26"
             ],
             [
              1,
              "#f0f921"
             ]
            ],
            "type": "heatmap"
           }
          ],
          "heatmapgl": [
           {
            "colorbar": {
             "outlinewidth": 0,
             "ticks": ""
            },
            "colorscale": [
             [
              0,
              "#0d0887"
             ],
             [
              0.1111111111111111,
              "#46039f"
             ],
             [
              0.2222222222222222,
              "#7201a8"
             ],
             [
              0.3333333333333333,
              "#9c179e"
             ],
             [
              0.4444444444444444,
              "#bd3786"
             ],
             [
              0.5555555555555556,
              "#d8576b"
             ],
             [
              0.6666666666666666,
              "#ed7953"
             ],
             [
              0.7777777777777778,
              "#fb9f3a"
             ],
             [
              0.8888888888888888,
              "#fdca26"
             ],
             [
              1,
              "#f0f921"
             ]
            ],
            "type": "heatmapgl"
           }
          ],
          "histogram": [
           {
            "marker": {
             "pattern": {
              "fillmode": "overlay",
              "size": 10,
              "solidity": 0.2
             }
            },
            "type": "histogram"
           }
          ],
          "histogram2d": [
           {
            "colorbar": {
             "outlinewidth": 0,
             "ticks": ""
            },
            "colorscale": [
             [
              0,
              "#0d0887"
             ],
             [
              0.1111111111111111,
              "#46039f"
             ],
             [
              0.2222222222222222,
              "#7201a8"
             ],
             [
              0.3333333333333333,
              "#9c179e"
             ],
             [
              0.4444444444444444,
              "#bd3786"
             ],
             [
              0.5555555555555556,
              "#d8576b"
             ],
             [
              0.6666666666666666,
              "#ed7953"
             ],
             [
              0.7777777777777778,
              "#fb9f3a"
             ],
             [
              0.8888888888888888,
              "#fdca26"
             ],
             [
              1,
              "#f0f921"
             ]
            ],
            "type": "histogram2d"
           }
          ],
          "histogram2dcontour": [
           {
            "colorbar": {
             "outlinewidth": 0,
             "ticks": ""
            },
            "colorscale": [
             [
              0,
              "#0d0887"
             ],
             [
              0.1111111111111111,
              "#46039f"
             ],
             [
              0.2222222222222222,
              "#7201a8"
             ],
             [
              0.3333333333333333,
              "#9c179e"
             ],
             [
              0.4444444444444444,
              "#bd3786"
             ],
             [
              0.5555555555555556,
              "#d8576b"
             ],
             [
              0.6666666666666666,
              "#ed7953"
             ],
             [
              0.7777777777777778,
              "#fb9f3a"
             ],
             [
              0.8888888888888888,
              "#fdca26"
             ],
             [
              1,
              "#f0f921"
             ]
            ],
            "type": "histogram2dcontour"
           }
          ],
          "mesh3d": [
           {
            "colorbar": {
             "outlinewidth": 0,
             "ticks": ""
            },
            "type": "mesh3d"
           }
          ],
          "parcoords": [
           {
            "line": {
             "colorbar": {
              "outlinewidth": 0,
              "ticks": ""
             }
            },
            "type": "parcoords"
           }
          ],
          "pie": [
           {
            "automargin": true,
            "type": "pie"
           }
          ],
          "scatter": [
           {
            "fillpattern": {
             "fillmode": "overlay",
             "size": 10,
             "solidity": 0.2
            },
            "type": "scatter"
           }
          ],
          "scatter3d": [
           {
            "line": {
             "colorbar": {
              "outlinewidth": 0,
              "ticks": ""
             }
            },
            "marker": {
             "colorbar": {
              "outlinewidth": 0,
              "ticks": ""
             }
            },
            "type": "scatter3d"
           }
          ],
          "scattercarpet": [
           {
            "marker": {
             "colorbar": {
              "outlinewidth": 0,
              "ticks": ""
             }
            },
            "type": "scattercarpet"
           }
          ],
          "scattergeo": [
           {
            "marker": {
             "colorbar": {
              "outlinewidth": 0,
              "ticks": ""
             }
            },
            "type": "scattergeo"
           }
          ],
          "scattergl": [
           {
            "marker": {
             "colorbar": {
              "outlinewidth": 0,
              "ticks": ""
             }
            },
            "type": "scattergl"
           }
          ],
          "scattermapbox": [
           {
            "marker": {
             "colorbar": {
              "outlinewidth": 0,
              "ticks": ""
             }
            },
            "type": "scattermapbox"
           }
          ],
          "scatterpolar": [
           {
            "marker": {
             "colorbar": {
              "outlinewidth": 0,
              "ticks": ""
             }
            },
            "type": "scatterpolar"
           }
          ],
          "scatterpolargl": [
           {
            "marker": {
             "colorbar": {
              "outlinewidth": 0,
              "ticks": ""
             }
            },
            "type": "scatterpolargl"
           }
          ],
          "scatterternary": [
           {
            "marker": {
             "colorbar": {
              "outlinewidth": 0,
              "ticks": ""
             }
            },
            "type": "scatterternary"
           }
          ],
          "surface": [
           {
            "colorbar": {
             "outlinewidth": 0,
             "ticks": ""
            },
            "colorscale": [
             [
              0,
              "#0d0887"
             ],
             [
              0.1111111111111111,
              "#46039f"
             ],
             [
              0.2222222222222222,
              "#7201a8"
             ],
             [
              0.3333333333333333,
              "#9c179e"
             ],
             [
              0.4444444444444444,
              "#bd3786"
             ],
             [
              0.5555555555555556,
              "#d8576b"
             ],
             [
              0.6666666666666666,
              "#ed7953"
             ],
             [
              0.7777777777777778,
              "#fb9f3a"
             ],
             [
              0.8888888888888888,
              "#fdca26"
             ],
             [
              1,
              "#f0f921"
             ]
            ],
            "type": "surface"
           }
          ],
          "table": [
           {
            "cells": {
             "fill": {
              "color": "#EBF0F8"
             },
             "line": {
              "color": "white"
             }
            },
            "header": {
             "fill": {
              "color": "#C8D4E3"
             },
             "line": {
              "color": "white"
             }
            },
            "type": "table"
           }
          ]
         },
         "layout": {
          "annotationdefaults": {
           "arrowcolor": "#2a3f5f",
           "arrowhead": 0,
           "arrowwidth": 1
          },
          "autotypenumbers": "strict",
          "coloraxis": {
           "colorbar": {
            "outlinewidth": 0,
            "ticks": ""
           }
          },
          "colorscale": {
           "diverging": [
            [
             0,
             "#8e0152"
            ],
            [
             0.1,
             "#c51b7d"
            ],
            [
             0.2,
             "#de77ae"
            ],
            [
             0.3,
             "#f1b6da"
            ],
            [
             0.4,
             "#fde0ef"
            ],
            [
             0.5,
             "#f7f7f7"
            ],
            [
             0.6,
             "#e6f5d0"
            ],
            [
             0.7,
             "#b8e186"
            ],
            [
             0.8,
             "#7fbc41"
            ],
            [
             0.9,
             "#4d9221"
            ],
            [
             1,
             "#276419"
            ]
           ],
           "sequential": [
            [
             0,
             "#0d0887"
            ],
            [
             0.1111111111111111,
             "#46039f"
            ],
            [
             0.2222222222222222,
             "#7201a8"
            ],
            [
             0.3333333333333333,
             "#9c179e"
            ],
            [
             0.4444444444444444,
             "#bd3786"
            ],
            [
             0.5555555555555556,
             "#d8576b"
            ],
            [
             0.6666666666666666,
             "#ed7953"
            ],
            [
             0.7777777777777778,
             "#fb9f3a"
            ],
            [
             0.8888888888888888,
             "#fdca26"
            ],
            [
             1,
             "#f0f921"
            ]
           ],
           "sequentialminus": [
            [
             0,
             "#0d0887"
            ],
            [
             0.1111111111111111,
             "#46039f"
            ],
            [
             0.2222222222222222,
             "#7201a8"
            ],
            [
             0.3333333333333333,
             "#9c179e"
            ],
            [
             0.4444444444444444,
             "#bd3786"
            ],
            [
             0.5555555555555556,
             "#d8576b"
            ],
            [
             0.6666666666666666,
             "#ed7953"
            ],
            [
             0.7777777777777778,
             "#fb9f3a"
            ],
            [
             0.8888888888888888,
             "#fdca26"
            ],
            [
             1,
             "#f0f921"
            ]
           ]
          },
          "colorway": [
           "#636efa",
           "#EF553B",
           "#00cc96",
           "#ab63fa",
           "#FFA15A",
           "#19d3f3",
           "#FF6692",
           "#B6E880",
           "#FF97FF",
           "#FECB52"
          ],
          "font": {
           "color": "#2a3f5f"
          },
          "geo": {
           "bgcolor": "white",
           "lakecolor": "white",
           "landcolor": "#E5ECF6",
           "showlakes": true,
           "showland": true,
           "subunitcolor": "white"
          },
          "hoverlabel": {
           "align": "left"
          },
          "hovermode": "closest",
          "mapbox": {
           "style": "light"
          },
          "paper_bgcolor": "white",
          "plot_bgcolor": "#E5ECF6",
          "polar": {
           "angularaxis": {
            "gridcolor": "white",
            "linecolor": "white",
            "ticks": ""
           },
           "bgcolor": "#E5ECF6",
           "radialaxis": {
            "gridcolor": "white",
            "linecolor": "white",
            "ticks": ""
           }
          },
          "scene": {
           "xaxis": {
            "backgroundcolor": "#E5ECF6",
            "gridcolor": "white",
            "gridwidth": 2,
            "linecolor": "white",
            "showbackground": true,
            "ticks": "",
            "zerolinecolor": "white"
           },
           "yaxis": {
            "backgroundcolor": "#E5ECF6",
            "gridcolor": "white",
            "gridwidth": 2,
            "linecolor": "white",
            "showbackground": true,
            "ticks": "",
            "zerolinecolor": "white"
           },
           "zaxis": {
            "backgroundcolor": "#E5ECF6",
            "gridcolor": "white",
            "gridwidth": 2,
            "linecolor": "white",
            "showbackground": true,
            "ticks": "",
            "zerolinecolor": "white"
           }
          },
          "shapedefaults": {
           "line": {
            "color": "#2a3f5f"
           }
          },
          "ternary": {
           "aaxis": {
            "gridcolor": "white",
            "linecolor": "white",
            "ticks": ""
           },
           "baxis": {
            "gridcolor": "white",
            "linecolor": "white",
            "ticks": ""
           },
           "bgcolor": "#E5ECF6",
           "caxis": {
            "gridcolor": "white",
            "linecolor": "white",
            "ticks": ""
           }
          },
          "title": {
           "x": 0.05
          },
          "xaxis": {
           "automargin": true,
           "gridcolor": "white",
           "linecolor": "white",
           "ticks": "",
           "title": {
            "standoff": 15
           },
           "zerolinecolor": "white",
           "zerolinewidth": 2
          },
          "yaxis": {
           "automargin": true,
           "gridcolor": "white",
           "linecolor": "white",
           "ticks": "",
           "title": {
            "standoff": 15
           },
           "zerolinecolor": "white",
           "zerolinewidth": 2
          }
         }
        },
        "title": {
         "font": {
          "family": "Arial, sans-serif",
          "size": 22
         },
         "text": "NYC Subway Major Incidents: Highest vs. Lowest Months (2024)",
         "x": 0.5,
         "xanchor": "center",
         "y": 0.95,
         "yanchor": "top"
        },
        "width": 1000,
        "xaxis": {
         "categoryarray": [
          "2024-01-01T00:00:00",
          "2024-06-01T00:00:00",
          "2024-10-01T00:00:00",
          "2024-12-01T00:00:00"
         ],
         "categoryorder": "array",
         "gridcolor": "#eaeaea",
         "gridwidth": 1,
         "showgrid": true,
         "tickangle": 45,
         "tickfont": {
          "size": 14
         },
         "tickmode": "array",
         "ticktext": [
          "Jan 2024",
          "Jun 2024",
          "Oct 2024",
          "Dec 2024"
         ],
         "tickvals": [
          "2024-01-01T00:00:00",
          "2024-06-01T00:00:00",
          "2024-10-01T00:00:00",
          "2024-12-01T00:00:00"
         ],
         "title": {
          "font": {
           "size": 16
          },
          "text": ""
         },
         "zeroline": false
        },
        "yaxis": {
         "gridcolor": "#eaeaea",
         "gridwidth": 1,
         "showgrid": true,
         "tickfont": {
          "size": 14
         },
         "title": {
          "font": {
           "size": 16
          },
          "text": "Number of Incidents"
         },
         "zeroline": false
        }
       }
      }
     },
     "metadata": {},
     "output_type": "display_data"
    }
   ],
   "source": [
    "import pandas as pd\n",
    "import plotly.graph_objects as go\n",
    "from datetime import datetime\n",
    "import numpy as np\n",
    "\n",
    "# Ensure 'month' is datetime and rounded to start of month\n",
    "df['month'] = pd.to_datetime(df['month'])\n",
    "df['month'] = df['month'].dt.to_period('M').dt.to_timestamp()\n",
    "\n",
    "# Filter to only include data from 2024\n",
    "df_2024 = df[df['month'].dt.year == 2024].copy()\n",
    "\n",
    "# Aggregate by month to find total incidents per month (2024 only)\n",
    "monthly_totals = df_2024.groupby('month')['count'].sum().reset_index()\n",
    "\n",
    "# Sort to find months with most and least incidents\n",
    "sorted_months = monthly_totals.sort_values('count', ascending=False)\n",
    "\n",
    "# Get the two months with most incidents and two months with least incidents\n",
    "top_months = sorted_months.head(2)['month'].tolist()\n",
    "bottom_months = sorted_months.tail(2)['month'].tolist()\n",
    "\n",
    "# Combine to get our target months\n",
    "target_months = top_months + bottom_months\n",
    "target_months.sort()  # Sort chronologically\n",
    "\n",
    "# Filter dataframe for only these months (using the 2024 data)\n",
    "highlight_df = df_2024[df_2024['month'].isin(target_months)].copy()\n",
    "\n",
    "# Generate viridis color palette for categories\n",
    "categories = highlight_df['category'].unique()\n",
    "category_values = highlight_df.groupby('category')['count'].sum()\n",
    "normed_values = category_values / category_values.max()\n",
    "\n",
    "# Create color map using viridis\n",
    "from matplotlib.cm import viridis\n",
    "color_map = {cat: f'rgb{tuple(int(x*255) for x in viridis(normed_values[cat]))}' for cat in categories}\n",
    "\n",
    "# Create figure\n",
    "fig = go.Figure()\n",
    "\n",
    "# Add bar traces for each category\n",
    "for category in categories:\n",
    "    category_data = highlight_df[highlight_df['category'] == category]\n",
    "    \n",
    "    fig.add_trace(\n",
    "        go.Bar(\n",
    "            x=category_data['month'],\n",
    "            y=category_data['count'],\n",
    "            name=category,\n",
    "            marker_color=color_map.get(category, '#000'),\n",
    "            hovertemplate='<b>%{x|%B %Y}</b><br>' +\n",
    "                          'Category: ' + category + '<br>' +\n",
    "                          'Incidents: %{y:.2f}<extra></extra>'\n",
    "        )\n",
    "    )\n",
    "\n",
    "# Format dates for x-axis\n",
    "date_strings = [d.strftime('%b %Y') for d in target_months]\n",
    "\n",
    "# Update layout\n",
    "fig.update_layout(\n",
    "    title={\n",
    "        'text': 'NYC Subway Major Incidents: Highest vs. Lowest Months (2024)',\n",
    "        'font': {'size': 22, 'family': 'Arial, sans-serif'},\n",
    "        'y': 0.95,\n",
    "        'x': 0.5,\n",
    "        'xanchor': 'center',\n",
    "        'yanchor': 'top'\n",
    "    },\n",
    "    xaxis={\n",
    "        'title': '',\n",
    "        'title_font': {'size': 16},\n",
    "        'tickfont': {'size': 14},\n",
    "        'tickangle': 45,\n",
    "        'gridcolor': '#eaeaea',\n",
    "        'tickmode': 'array',\n",
    "        'tickvals': target_months,\n",
    "        'ticktext': date_strings,\n",
    "        'categoryorder': 'array',\n",
    "        'categoryarray': target_months\n",
    "    },\n",
    "    yaxis={\n",
    "        'title': 'Number of Incidents',\n",
    "        'title_font': {'size': 16},\n",
    "        'tickfont': {'size': 14},\n",
    "        'gridcolor': '#eaeaea',\n",
    "    },\n",
    "    plot_bgcolor='white',\n",
    "    legend={\n",
    "        'title': {'text': 'Incident Category', 'font': {'size': 16}},\n",
    "        'font': {'size': 14},\n",
    "        'yanchor': 'top',\n",
    "        'xanchor': 'right',\n",
    "        'y': 0.80,\n",
    "        'x': 1.4,\n",
    "        'bordercolor': '#e0e0e0',\n",
    "        'borderwidth': 1\n",
    "    },\n",
    "    width=1000,\n",
    "    height=700,\n",
    "    margin=dict(t=80, b=100, l=80, r=250),\n",
    "    barmode='group',\n",
    "    bargap=0.15,\n",
    "    bargroupgap=0.1,\n",
    "    annotations=[\n",
    "        # Add annotations for top months\n",
    "        dict(\n",
    "            x=top_months[0],\n",
    "            y=monthly_totals[monthly_totals['month'] == top_months[0]]['count'].values[0] + 5,\n",
    "            text=\"Highest\",\n",
    "            showarrow=True,\n",
    "            arrowhead=1,\n",
    "            ax=0,\n",
    "            ay=-40,\n",
    "            font=dict(size=14)\n",
    "        ),\n",
    "        dict(\n",
    "            x=top_months[1],\n",
    "            y=monthly_totals[monthly_totals['month'] == top_months[1]]['count'].values[0] + 5,\n",
    "            text=\"2nd Highest\",\n",
    "            showarrow=True,\n",
    "            arrowhead=1,\n",
    "            ax=0,\n",
    "            ay=-40,\n",
    "            font=dict(size=14)\n",
    "        ),\n",
    "        # Add annotations for bottom months\n",
    "        dict(\n",
    "            x=bottom_months[0],\n",
    "            y=monthly_totals[monthly_totals['month'] == bottom_months[0]]['count'].values[0] + 5,\n",
    "            text=\"2nd Lowest\",\n",
    "            showarrow=True,\n",
    "            arrowhead=1,\n",
    "            ax=0,\n",
    "            ay=-40,\n",
    "            font=dict(size=14)\n",
    "        ),\n",
    "        dict(\n",
    "            x=bottom_months[1],\n",
    "            y=monthly_totals[monthly_totals['month'] == bottom_months[1]]['count'].values[0] + 5,\n",
    "            text=\"Lowest\",\n",
    "            showarrow=True,\n",
    "            arrowhead=1,\n",
    "            ax=0,\n",
    "            ay=-40,\n",
    "            font=dict(size=14)\n",
    "        )\n",
    "    ]\n",
    ")\n",
    "\n",
    "# Update grid settings\n",
    "fig.update_xaxes(\n",
    "    showgrid=True,\n",
    "    gridwidth=1,\n",
    "    gridcolor='#eaeaea',\n",
    "    zeroline=False\n",
    ")\n",
    "\n",
    "fig.update_yaxes(\n",
    "    showgrid=True,\n",
    "    gridwidth=1,\n",
    "    gridcolor='#eaeaea',\n",
    "    zeroline=False\n",
    ")\n",
    "\n",
    "# Save as interactive HTML\n",
    "#fig.write_html(\n",
    "#    \"nyc_subway_high_low_months_incidents_2024.html\",\n",
    "#    include_plotlyjs=True,\n",
    "#    config={\n",
    "#        'displayModeBar': True,\n",
    "#        'modeBarButtonsToRemove': ['select2d', 'lasso2d'],\n",
    "#        'displaylogo': False,\n",
    "#        'toImageButtonOptions': {\n",
    "#            'format': 'png',\n",
    "#            'filename': 'nyc_subway_high_low_incidents_bar',\n",
    "#            'height': 700,\n",
    "#            'width': 1000,\n",
    "#            'scale': 2\n",
    "#        }\n",
    "#    }\n",
    "#)\n",
    "\n",
    "# Display the figure\n",
    "fig.show()"
   ]
  },
  {
   "cell_type": "code",
   "execution_count": 24,
   "metadata": {},
   "outputs": [
    {
     "data": {
      "application/vnd.plotly.v1+json": {
       "config": {
        "plotlyServerURL": "https://plot.ly"
       },
       "data": [
        {
         "hovertemplate": "<b>%{x}</b><br>Category: %{data.name}<br>Incidents: %{y}<br><extra></extra>",
         "legendgroup": "Other",
         "marker": {
          "color": "rgb(199, 224, 31, 255)"
         },
         "name": "Other",
         "showlegend": true,
         "type": "bar",
         "x": [
          "1",
          "2",
          "3",
          "4",
          "5",
          "6",
          "7"
         ],
         "xaxis": "x",
         "y": [
          15,
          19,
          21,
          18,
          9,
          8,
          15
         ],
         "yaxis": "y"
        },
        {
         "hovertemplate": "<b>%{x}</b><br>Category: %{data.name}<br>Incidents: %{y}<br><extra></extra>",
         "legendgroup": "Persons on Trackbed/Police/Medical",
         "marker": {
          "color": "rgb(253, 231, 36, 255)"
         },
         "name": "Persons on Trackbed/Police/Medical",
         "showlegend": true,
         "type": "bar",
         "x": [
          "1",
          "2",
          "3",
          "4",
          "5",
          "6",
          "7"
         ],
         "xaxis": "x",
         "y": [
          7,
          22,
          5,
          23,
          22,
          18,
          5
         ],
         "yaxis": "y"
        },
        {
         "hovertemplate": "<b>%{x}</b><br>Category: %{data.name}<br>Incidents: %{y}<br><extra></extra>",
         "legendgroup": "Signals",
         "marker": {
          "color": "rgb(173, 220, 48, 255)"
         },
         "name": "Signals",
         "showlegend": true,
         "type": "bar",
         "x": [
          "1",
          "2",
          "3",
          "4",
          "5",
          "6",
          "7"
         ],
         "xaxis": "x",
         "y": [
          7,
          7,
          13,
          18,
          22,
          7,
          23
         ],
         "yaxis": "y"
        },
        {
         "hovertemplate": "<b>%{x}</b><br>Category: %{data.name}<br>Incidents: %{y}<br><extra></extra>",
         "legendgroup": "Subway Car",
         "marker": {
          "color": "rgb(139, 213, 70, 255)"
         },
         "name": "Subway Car",
         "showlegend": true,
         "type": "bar",
         "x": [
          "1",
          "2",
          "3",
          "4",
          "5",
          "6",
          "7"
         ],
         "xaxis": "x",
         "y": [
          6,
          17,
          7,
          5,
          14,
          7,
          7
         ],
         "yaxis": "y"
        },
        {
         "hovertemplate": "<b>%{x}</b><br>Category: %{data.name}<br>Incidents: %{y}<br><extra></extra>",
         "legendgroup": "Track",
         "marker": {
          "color": "rgb(243, 229, 30, 255)"
         },
         "name": "Track",
         "showlegend": true,
         "type": "bar",
         "x": [
          "1",
          "2",
          "3",
          "4",
          "5",
          "6",
          "7"
         ],
         "xaxis": "x",
         "y": [
          14,
          13,
          10,
          8,
          21,
          21,
          5
         ],
         "yaxis": "y"
        },
        {
         "hovertemplate": "<b>%{x}</b><br>Category: %{data.name}<br>Incidents: %{y}<br><extra></extra>",
         "legendgroup": "Stations and Structure",
         "marker": {
          "color": "rgb(131, 211, 75, 255)"
         },
         "name": "Stations and Structure",
         "showlegend": true,
         "type": "bar",
         "x": [
          "1",
          "2",
          "3",
          "4",
          "5",
          "6",
          "7"
         ],
         "xaxis": "x",
         "y": [
          10,
          5,
          23,
          6,
          19,
          7,
          12
         ],
         "yaxis": "y"
        },
        {
         "hovertemplate": "<b>%{x}</b><br>Category: %{data.name}<br>Incidents: %{y}<br><extra></extra>",
         "legendgroup": "Other",
         "marker": {
          "color": "rgb(199, 224, 31, 255)"
         },
         "name": "Other",
         "showlegend": false,
         "type": "bar",
         "x": [
          "A",
          "B",
          "C",
          "D",
          "E",
          "F",
          "G",
          "JZ",
          "L",
          "M",
          "N",
          "Q",
          "R"
         ],
         "xaxis": "x2",
         "y": [
          17,
          10,
          18,
          6,
          19,
          19,
          14,
          6,
          5,
          9,
          21,
          7,
          18
         ],
         "yaxis": "y2"
        },
        {
         "hovertemplate": "<b>%{x}</b><br>Category: %{data.name}<br>Incidents: %{y}<br><extra></extra>",
         "legendgroup": "Persons on Trackbed/Police/Medical",
         "marker": {
          "color": "rgb(253, 231, 36, 255)"
         },
         "name": "Persons on Trackbed/Police/Medical",
         "showlegend": false,
         "type": "bar",
         "x": [
          "A",
          "B",
          "C",
          "D",
          "E",
          "F",
          "G",
          "JZ",
          "L",
          "M",
          "N",
          "Q",
          "R"
         ],
         "xaxis": "x2",
         "y": [
          20,
          9,
          11,
          20,
          13,
          16,
          16,
          21,
          16,
          6,
          22,
          14,
          13
         ],
         "yaxis": "y2"
        },
        {
         "hovertemplate": "<b>%{x}</b><br>Category: %{data.name}<br>Incidents: %{y}<br><extra></extra>",
         "legendgroup": "Signals",
         "marker": {
          "color": "rgb(173, 220, 48, 255)"
         },
         "name": "Signals",
         "showlegend": false,
         "type": "bar",
         "x": [
          "A",
          "B",
          "C",
          "D",
          "E",
          "F",
          "G",
          "JZ",
          "L",
          "M",
          "N",
          "Q",
          "R"
         ],
         "xaxis": "x2",
         "y": [
          21,
          9,
          5,
          6,
          16,
          11,
          13,
          9,
          8,
          9,
          11,
          24,
          23
         ],
         "yaxis": "y2"
        },
        {
         "hovertemplate": "<b>%{x}</b><br>Category: %{data.name}<br>Incidents: %{y}<br><extra></extra>",
         "legendgroup": "Subway Car",
         "marker": {
          "color": "rgb(139, 213, 70, 255)"
         },
         "name": "Subway Car",
         "showlegend": false,
         "type": "bar",
         "x": [
          "A",
          "B",
          "C",
          "D",
          "E",
          "F",
          "G",
          "JZ",
          "L",
          "M",
          "N",
          "Q",
          "R"
         ],
         "xaxis": "x2",
         "y": [
          22,
          15,
          21,
          19,
          16,
          5,
          5,
          21,
          15,
          7,
          16,
          13,
          9
         ],
         "yaxis": "y2"
        },
        {
         "hovertemplate": "<b>%{x}</b><br>Category: %{data.name}<br>Incidents: %{y}<br><extra></extra>",
         "legendgroup": "Track",
         "marker": {
          "color": "rgb(243, 229, 30, 255)"
         },
         "name": "Track",
         "showlegend": false,
         "type": "bar",
         "x": [
          "A",
          "B",
          "C",
          "D",
          "E",
          "F",
          "G",
          "JZ",
          "L",
          "M",
          "N",
          "Q",
          "R"
         ],
         "xaxis": "x2",
         "y": [
          11,
          8,
          23,
          13,
          15,
          18,
          16,
          15,
          20,
          18,
          9,
          24,
          12
         ],
         "yaxis": "y2"
        },
        {
         "hovertemplate": "<b>%{x}</b><br>Category: %{data.name}<br>Incidents: %{y}<br><extra></extra>",
         "legendgroup": "Stations and Structure",
         "marker": {
          "color": "rgb(131, 211, 75, 255)"
         },
         "name": "Stations and Structure",
         "showlegend": false,
         "type": "bar",
         "x": [
          "A",
          "B",
          "C",
          "D",
          "E",
          "F",
          "G",
          "JZ",
          "L",
          "M",
          "N",
          "Q",
          "R"
         ],
         "xaxis": "x2",
         "y": [
          15,
          8,
          23,
          12,
          12,
          5,
          6,
          5,
          7,
          22,
          24,
          17,
          5
         ],
         "yaxis": "y2"
        }
       ],
       "layout": {
        "annotations": [
         {
          "font": {
           "size": 16
          },
          "showarrow": false,
          "text": "A Division",
          "x": 0.2375,
          "xanchor": "center",
          "xref": "paper",
          "y": 1,
          "yanchor": "bottom",
          "yref": "paper"
         },
         {
          "font": {
           "size": 16
          },
          "showarrow": false,
          "text": "B Division",
          "x": 0.7625,
          "xanchor": "center",
          "xref": "paper",
          "y": 1,
          "yanchor": "bottom",
          "yref": "paper"
         }
        ],
        "barmode": "group",
        "font": {
         "family": "Arial, sans-serif"
        },
        "height": 600,
        "legend": {
         "orientation": "h",
         "title": {
          "font": {
           "size": 14
          },
          "text": "Incident Category"
         },
         "x": 0.5,
         "xanchor": "center",
         "y": -0.2,
         "yanchor": "bottom"
        },
        "plot_bgcolor": "white",
        "template": {
         "data": {
          "bar": [
           {
            "error_x": {
             "color": "#2a3f5f"
            },
            "error_y": {
             "color": "#2a3f5f"
            },
            "marker": {
             "line": {
              "color": "#E5ECF6",
              "width": 0.5
             },
             "pattern": {
              "fillmode": "overlay",
              "size": 10,
              "solidity": 0.2
             }
            },
            "type": "bar"
           }
          ],
          "barpolar": [
           {
            "marker": {
             "line": {
              "color": "#E5ECF6",
              "width": 0.5
             },
             "pattern": {
              "fillmode": "overlay",
              "size": 10,
              "solidity": 0.2
             }
            },
            "type": "barpolar"
           }
          ],
          "carpet": [
           {
            "aaxis": {
             "endlinecolor": "#2a3f5f",
             "gridcolor": "white",
             "linecolor": "white",
             "minorgridcolor": "white",
             "startlinecolor": "#2a3f5f"
            },
            "baxis": {
             "endlinecolor": "#2a3f5f",
             "gridcolor": "white",
             "linecolor": "white",
             "minorgridcolor": "white",
             "startlinecolor": "#2a3f5f"
            },
            "type": "carpet"
           }
          ],
          "choropleth": [
           {
            "colorbar": {
             "outlinewidth": 0,
             "ticks": ""
            },
            "type": "choropleth"
           }
          ],
          "contour": [
           {
            "colorbar": {
             "outlinewidth": 0,
             "ticks": ""
            },
            "colorscale": [
             [
              0,
              "#0d0887"
             ],
             [
              0.1111111111111111,
              "#46039f"
             ],
             [
              0.2222222222222222,
              "#7201a8"
             ],
             [
              0.3333333333333333,
              "#9c179e"
             ],
             [
              0.4444444444444444,
              "#bd3786"
             ],
             [
              0.5555555555555556,
              "#d8576b"
             ],
             [
              0.6666666666666666,
              "#ed7953"
             ],
             [
              0.7777777777777778,
              "#fb9f3a"
             ],
             [
              0.8888888888888888,
              "#fdca26"
             ],
             [
              1,
              "#f0f921"
             ]
            ],
            "type": "contour"
           }
          ],
          "contourcarpet": [
           {
            "colorbar": {
             "outlinewidth": 0,
             "ticks": ""
            },
            "type": "contourcarpet"
           }
          ],
          "heatmap": [
           {
            "colorbar": {
             "outlinewidth": 0,
             "ticks": ""
            },
            "colorscale": [
             [
              0,
              "#0d0887"
             ],
             [
              0.1111111111111111,
              "#46039f"
             ],
             [
              0.2222222222222222,
              "#7201a8"
             ],
             [
              0.3333333333333333,
              "#9c179e"
             ],
             [
              0.4444444444444444,
              "#bd3786"
             ],
             [
              0.5555555555555556,
              "#d8576b"
             ],
             [
              0.6666666666666666,
              "#ed7953"
             ],
             [
              0.7777777777777778,
              "#fb9f3a"
             ],
             [
              0.8888888888888888,
              "#fdca26"
             ],
             [
              1,
              "#f0f921"
             ]
            ],
            "type": "heatmap"
           }
          ],
          "heatmapgl": [
           {
            "colorbar": {
             "outlinewidth": 0,
             "ticks": ""
            },
            "colorscale": [
             [
              0,
              "#0d0887"
             ],
             [
              0.1111111111111111,
              "#46039f"
             ],
             [
              0.2222222222222222,
              "#7201a8"
             ],
             [
              0.3333333333333333,
              "#9c179e"
             ],
             [
              0.4444444444444444,
              "#bd3786"
             ],
             [
              0.5555555555555556,
              "#d8576b"
             ],
             [
              0.6666666666666666,
              "#ed7953"
             ],
             [
              0.7777777777777778,
              "#fb9f3a"
             ],
             [
              0.8888888888888888,
              "#fdca26"
             ],
             [
              1,
              "#f0f921"
             ]
            ],
            "type": "heatmapgl"
           }
          ],
          "histogram": [
           {
            "marker": {
             "pattern": {
              "fillmode": "overlay",
              "size": 10,
              "solidity": 0.2
             }
            },
            "type": "histogram"
           }
          ],
          "histogram2d": [
           {
            "colorbar": {
             "outlinewidth": 0,
             "ticks": ""
            },
            "colorscale": [
             [
              0,
              "#0d0887"
             ],
             [
              0.1111111111111111,
              "#46039f"
             ],
             [
              0.2222222222222222,
              "#7201a8"
             ],
             [
              0.3333333333333333,
              "#9c179e"
             ],
             [
              0.4444444444444444,
              "#bd3786"
             ],
             [
              0.5555555555555556,
              "#d8576b"
             ],
             [
              0.6666666666666666,
              "#ed7953"
             ],
             [
              0.7777777777777778,
              "#fb9f3a"
             ],
             [
              0.8888888888888888,
              "#fdca26"
             ],
             [
              1,
              "#f0f921"
             ]
            ],
            "type": "histogram2d"
           }
          ],
          "histogram2dcontour": [
           {
            "colorbar": {
             "outlinewidth": 0,
             "ticks": ""
            },
            "colorscale": [
             [
              0,
              "#0d0887"
             ],
             [
              0.1111111111111111,
              "#46039f"
             ],
             [
              0.2222222222222222,
              "#7201a8"
             ],
             [
              0.3333333333333333,
              "#9c179e"
             ],
             [
              0.4444444444444444,
              "#bd3786"
             ],
             [
              0.5555555555555556,
              "#d8576b"
             ],
             [
              0.6666666666666666,
              "#ed7953"
             ],
             [
              0.7777777777777778,
              "#fb9f3a"
             ],
             [
              0.8888888888888888,
              "#fdca26"
             ],
             [
              1,
              "#f0f921"
             ]
            ],
            "type": "histogram2dcontour"
           }
          ],
          "mesh3d": [
           {
            "colorbar": {
             "outlinewidth": 0,
             "ticks": ""
            },
            "type": "mesh3d"
           }
          ],
          "parcoords": [
           {
            "line": {
             "colorbar": {
              "outlinewidth": 0,
              "ticks": ""
             }
            },
            "type": "parcoords"
           }
          ],
          "pie": [
           {
            "automargin": true,
            "type": "pie"
           }
          ],
          "scatter": [
           {
            "fillpattern": {
             "fillmode": "overlay",
             "size": 10,
             "solidity": 0.2
            },
            "type": "scatter"
           }
          ],
          "scatter3d": [
           {
            "line": {
             "colorbar": {
              "outlinewidth": 0,
              "ticks": ""
             }
            },
            "marker": {
             "colorbar": {
              "outlinewidth": 0,
              "ticks": ""
             }
            },
            "type": "scatter3d"
           }
          ],
          "scattercarpet": [
           {
            "marker": {
             "colorbar": {
              "outlinewidth": 0,
              "ticks": ""
             }
            },
            "type": "scattercarpet"
           }
          ],
          "scattergeo": [
           {
            "marker": {
             "colorbar": {
              "outlinewidth": 0,
              "ticks": ""
             }
            },
            "type": "scattergeo"
           }
          ],
          "scattergl": [
           {
            "marker": {
             "colorbar": {
              "outlinewidth": 0,
              "ticks": ""
             }
            },
            "type": "scattergl"
           }
          ],
          "scattermapbox": [
           {
            "marker": {
             "colorbar": {
              "outlinewidth": 0,
              "ticks": ""
             }
            },
            "type": "scattermapbox"
           }
          ],
          "scatterpolar": [
           {
            "marker": {
             "colorbar": {
              "outlinewidth": 0,
              "ticks": ""
             }
            },
            "type": "scatterpolar"
           }
          ],
          "scatterpolargl": [
           {
            "marker": {
             "colorbar": {
              "outlinewidth": 0,
              "ticks": ""
             }
            },
            "type": "scatterpolargl"
           }
          ],
          "scatterternary": [
           {
            "marker": {
             "colorbar": {
              "outlinewidth": 0,
              "ticks": ""
             }
            },
            "type": "scatterternary"
           }
          ],
          "surface": [
           {
            "colorbar": {
             "outlinewidth": 0,
             "ticks": ""
            },
            "colorscale": [
             [
              0,
              "#0d0887"
             ],
             [
              0.1111111111111111,
              "#46039f"
             ],
             [
              0.2222222222222222,
              "#7201a8"
             ],
             [
              0.3333333333333333,
              "#9c179e"
             ],
             [
              0.4444444444444444,
              "#bd3786"
             ],
             [
              0.5555555555555556,
              "#d8576b"
             ],
             [
              0.6666666666666666,
              "#ed7953"
             ],
             [
              0.7777777777777778,
              "#fb9f3a"
             ],
             [
              0.8888888888888888,
              "#fdca26"
             ],
             [
              1,
              "#f0f921"
             ]
            ],
            "type": "surface"
           }
          ],
          "table": [
           {
            "cells": {
             "fill": {
              "color": "#EBF0F8"
             },
             "line": {
              "color": "white"
             }
            },
            "header": {
             "fill": {
              "color": "#C8D4E3"
             },
             "line": {
              "color": "white"
             }
            },
            "type": "table"
           }
          ]
         },
         "layout": {
          "annotationdefaults": {
           "arrowcolor": "#2a3f5f",
           "arrowhead": 0,
           "arrowwidth": 1
          },
          "autotypenumbers": "strict",
          "coloraxis": {
           "colorbar": {
            "outlinewidth": 0,
            "ticks": ""
           }
          },
          "colorscale": {
           "diverging": [
            [
             0,
             "#8e0152"
            ],
            [
             0.1,
             "#c51b7d"
            ],
            [
             0.2,
             "#de77ae"
            ],
            [
             0.3,
             "#f1b6da"
            ],
            [
             0.4,
             "#fde0ef"
            ],
            [
             0.5,
             "#f7f7f7"
            ],
            [
             0.6,
             "#e6f5d0"
            ],
            [
             0.7,
             "#b8e186"
            ],
            [
             0.8,
             "#7fbc41"
            ],
            [
             0.9,
             "#4d9221"
            ],
            [
             1,
             "#276419"
            ]
           ],
           "sequential": [
            [
             0,
             "#0d0887"
            ],
            [
             0.1111111111111111,
             "#46039f"
            ],
            [
             0.2222222222222222,
             "#7201a8"
            ],
            [
             0.3333333333333333,
             "#9c179e"
            ],
            [
             0.4444444444444444,
             "#bd3786"
            ],
            [
             0.5555555555555556,
             "#d8576b"
            ],
            [
             0.6666666666666666,
             "#ed7953"
            ],
            [
             0.7777777777777778,
             "#fb9f3a"
            ],
            [
             0.8888888888888888,
             "#fdca26"
            ],
            [
             1,
             "#f0f921"
            ]
           ],
           "sequentialminus": [
            [
             0,
             "#0d0887"
            ],
            [
             0.1111111111111111,
             "#46039f"
            ],
            [
             0.2222222222222222,
             "#7201a8"
            ],
            [
             0.3333333333333333,
             "#9c179e"
            ],
            [
             0.4444444444444444,
             "#bd3786"
            ],
            [
             0.5555555555555556,
             "#d8576b"
            ],
            [
             0.6666666666666666,
             "#ed7953"
            ],
            [
             0.7777777777777778,
             "#fb9f3a"
            ],
            [
             0.8888888888888888,
             "#fdca26"
            ],
            [
             1,
             "#f0f921"
            ]
           ]
          },
          "colorway": [
           "#636efa",
           "#EF553B",
           "#00cc96",
           "#ab63fa",
           "#FFA15A",
           "#19d3f3",
           "#FF6692",
           "#B6E880",
           "#FF97FF",
           "#FECB52"
          ],
          "font": {
           "color": "#2a3f5f"
          },
          "geo": {
           "bgcolor": "white",
           "lakecolor": "white",
           "landcolor": "#E5ECF6",
           "showlakes": true,
           "showland": true,
           "subunitcolor": "white"
          },
          "hoverlabel": {
           "align": "left"
          },
          "hovermode": "closest",
          "mapbox": {
           "style": "light"
          },
          "paper_bgcolor": "white",
          "plot_bgcolor": "#E5ECF6",
          "polar": {
           "angularaxis": {
            "gridcolor": "white",
            "linecolor": "white",
            "ticks": ""
           },
           "bgcolor": "#E5ECF6",
           "radialaxis": {
            "gridcolor": "white",
            "linecolor": "white",
            "ticks": ""
           }
          },
          "scene": {
           "xaxis": {
            "backgroundcolor": "#E5ECF6",
            "gridcolor": "white",
            "gridwidth": 2,
            "linecolor": "white",
            "showbackground": true,
            "ticks": "",
            "zerolinecolor": "white"
           },
           "yaxis": {
            "backgroundcolor": "#E5ECF6",
            "gridcolor": "white",
            "gridwidth": 2,
            "linecolor": "white",
            "showbackground": true,
            "ticks": "",
            "zerolinecolor": "white"
           },
           "zaxis": {
            "backgroundcolor": "#E5ECF6",
            "gridcolor": "white",
            "gridwidth": 2,
            "linecolor": "white",
            "showbackground": true,
            "ticks": "",
            "zerolinecolor": "white"
           }
          },
          "shapedefaults": {
           "line": {
            "color": "#2a3f5f"
           }
          },
          "ternary": {
           "aaxis": {
            "gridcolor": "white",
            "linecolor": "white",
            "ticks": ""
           },
           "baxis": {
            "gridcolor": "white",
            "linecolor": "white",
            "ticks": ""
           },
           "bgcolor": "#E5ECF6",
           "caxis": {
            "gridcolor": "white",
            "linecolor": "white",
            "ticks": ""
           }
          },
          "title": {
           "x": 0.05
          },
          "xaxis": {
           "automargin": true,
           "gridcolor": "white",
           "linecolor": "white",
           "ticks": "",
           "title": {
            "standoff": 15
           },
           "zerolinecolor": "white",
           "zerolinewidth": 2
          },
          "yaxis": {
           "automargin": true,
           "gridcolor": "white",
           "linecolor": "white",
           "ticks": "",
           "title": {
            "standoff": 15
           },
           "zerolinecolor": "white",
           "zerolinewidth": 2
          }
         }
        },
        "title": {
         "font": {
          "family": "Arial, sans-serif",
          "size": 22
         },
         "text": "NYC Subway Incidents by Division and Line",
         "x": 0.5
        },
        "width": 1100,
        "xaxis": {
         "anchor": "y",
         "domain": [
          0,
          0.475
         ],
         "gridcolor": "lightgray",
         "showgrid": true,
         "tickangle": 0,
         "tickfont": {
          "size": 12
         },
         "title": {
          "text": "Train Line"
         }
        },
        "xaxis2": {
         "anchor": "y2",
         "domain": [
          0.525,
          1
         ],
         "gridcolor": "lightgray",
         "showgrid": true,
         "tickangle": 0,
         "tickfont": {
          "size": 12
         },
         "title": {
          "text": "Train Line"
         }
        },
        "yaxis": {
         "anchor": "x",
         "domain": [
          0,
          1
         ],
         "gridcolor": "lightgray",
         "showgrid": true,
         "tickfont": {
          "size": 12
         },
         "title": {
          "text": "Number of Incidents"
         }
        },
        "yaxis2": {
         "anchor": "x2",
         "domain": [
          0,
          1
         ],
         "gridcolor": "lightgray",
         "showgrid": true,
         "tickfont": {
          "size": 12
         },
         "title": {
          "text": ""
         }
        }
       }
      }
     },
     "metadata": {},
     "output_type": "display_data"
    }
   ],
   "source": [
    "import pandas as pd\n",
    "import plotly.graph_objects as go\n",
    "import plotly.express as px\n",
    "import numpy as np\n",
    "from plotly.subplots import make_subplots\n",
    "import matplotlib.cm as cm\n",
    "\n",
    "def plot_subway_divisions():\n",
    "    # Using df_2024 as the data source for analysis\n",
    "    \n",
    "    # Define the correct trains for each division\n",
    "    division_trains = {\n",
    "        'A Division': ['1', '2', '3', '4', '5', '6', '7'],\n",
    "        'B Division': ['A', 'B', 'C', 'D', 'E', 'F', 'G', 'JZ', 'L', 'M', 'N', 'Q', 'R']\n",
    "    }\n",
    "    \n",
    "    # Updated categories to match the second illustration\n",
    "    categories = [\n",
    "        'Other', \n",
    "        'Persons on Trackbed/Police/Medical', \n",
    "        'Signals', \n",
    "        'Subway Car', \n",
    "        'Track', \n",
    "        'Stations and Structure'\n",
    "    ]\n",
    "    \n",
    "    # Filter the data to include only the specified trains for each division\n",
    "    filtered_data = []\n",
    "    for division, trains in division_trains.items():\n",
    "        div_data = df_2024[df_2024['division'] == division]\n",
    "        div_data = div_data[div_data['line'].isin(trains)]\n",
    "        filtered_data.append(div_data)\n",
    "    \n",
    "    # Combine the filtered data\n",
    "    filtered_df = pd.concat(filtered_data) if filtered_data else pd.DataFrame()\n",
    "    \n",
    "    # If there's no data, create dummy data for visualization purposes\n",
    "    if filtered_df.empty:\n",
    "        # Create dummy data with the correct structure\n",
    "        divisions = []\n",
    "        lines = []\n",
    "        incident_categories = []\n",
    "        counts = []\n",
    "        \n",
    "        # Add dummy data for each division and line\n",
    "        for division, trains in division_trains.items():\n",
    "            for train in trains:\n",
    "                for category in categories:\n",
    "                    divisions.append(division)\n",
    "                    lines.append(train)\n",
    "                    incident_categories.append(category)\n",
    "                    # Random count between 5 and 25\n",
    "                    counts.append(np.random.randint(5, 25))\n",
    "        \n",
    "        filtered_df = pd.DataFrame({\n",
    "            'division': divisions,\n",
    "            'line': lines,\n",
    "            'category': incident_categories,\n",
    "            'count': counts\n",
    "        })\n",
    "    \n",
    "    # Aggregate by division, line, and category\n",
    "    aggregated_data = filtered_df.groupby(['division', 'line', 'category'])['count'].sum().reset_index()\n",
    "    \n",
    "    # Normalize category counts for color mapping\n",
    "    category_totals = aggregated_data.groupby('category')['count'].sum()\n",
    "    normed_values = category_totals / category_totals.max()\n",
    "    \n",
    "    # Create color map using viridis\n",
    "    color_mapping = {\n",
    "        cat: f'rgb{tuple(int(x*255) for x in cm.viridis(normed_values[cat]))}' \n",
    "        for cat in categories\n",
    "    }\n",
    "    \n",
    "    # Create a 2D plot with both divisions\n",
    "    fig = make_subplots(\n",
    "        rows=1, \n",
    "        cols=2,\n",
    "        subplot_titles=list(division_trains.keys()),\n",
    "        horizontal_spacing=0.05\n",
    "    )\n",
    "    \n",
    "    # Add traces for each division\n",
    "    for idx, (division, trains) in enumerate(division_trains.items(), 1):\n",
    "        # Filter data for this division\n",
    "        div_data = aggregated_data[aggregated_data['division'] == division]\n",
    "        \n",
    "        # Add bars for each category\n",
    "        for category in categories:\n",
    "            cat_data = div_data[div_data['category'] == category]\n",
    "            \n",
    "            # Skip if no data for this category\n",
    "            if cat_data.empty:\n",
    "                continue\n",
    "                \n",
    "            # Sort by line to ensure correct order\n",
    "            cat_data = cat_data.sort_values('line')\n",
    "            \n",
    "            fig.add_trace(\n",
    "                go.Bar(\n",
    "                    x=cat_data['line'],\n",
    "                    y=cat_data['count'],\n",
    "                    name=category,\n",
    "                    marker_color=color_mapping[category],\n",
    "                    legendgroup=category,\n",
    "                    showlegend=idx == 1,  # Show legend only for first division\n",
    "                ),\n",
    "                row=1, \n",
    "                col=idx\n",
    "            )\n",
    "    \n",
    "    # Update layout\n",
    "    fig.update_layout(\n",
    "        barmode='group',\n",
    "        title=dict(\n",
    "            text='NYC Subway Incidents by Division and Line',\n",
    "            font=dict(size=22, family='Arial, sans-serif'),\n",
    "            x=0.5\n",
    "        ),\n",
    "        legend=dict(\n",
    "            title=dict(text='Incident Category', font=dict(size=14)),\n",
    "            orientation='h',\n",
    "            yanchor='bottom',\n",
    "            y=-0.2,\n",
    "            xanchor='center',\n",
    "            x=0.5\n",
    "        ),\n",
    "        height=600,\n",
    "        width=1100,\n",
    "        plot_bgcolor='white',\n",
    "        font=dict(family='Arial, sans-serif')\n",
    "    )\n",
    "    \n",
    "    # Update axes\n",
    "    for i in range(1, 3):\n",
    "        fig.update_xaxes(\n",
    "            title_text='Train Line',\n",
    "            row=1,\n",
    "            col=i,\n",
    "            tickfont=dict(size=12),\n",
    "            tickangle=0,\n",
    "            gridcolor='lightgray',\n",
    "            showgrid=True\n",
    "        )\n",
    "        \n",
    "        fig.update_yaxes(\n",
    "            title_text='Number of Incidents' if i == 1 else '',\n",
    "            row=1,\n",
    "            col=i,\n",
    "            tickfont=dict(size=12),\n",
    "            gridcolor='lightgray',\n",
    "            showgrid=True\n",
    "        )\n",
    "    \n",
    "    # Add hover data\n",
    "    fig.update_traces(\n",
    "        hovertemplate=\"<b>%{x}</b><br>\" +\n",
    "                     \"Category: %{data.name}<br>\" +\n",
    "                     \"Incidents: %{y}<br>\" +\n",
    "                     \"<extra></extra>\"\n",
    "    )\n",
    "    \n",
    "    return fig\n",
    "\n",
    "# Create and show the figure\n",
    "subway_divisions_plot = plot_subway_divisions()\n",
    "subway_divisions_plot.show()\n",
    "\n",
    "# Save to HTML\n",
    "#subway_divisions_plot.write_html(\n",
    "#    \"nyc_subway_incidents_by_division_line.html\",\n",
    "#    config={\n",
    "#        'displayModeBar': True,\n",
    "#        'displaylogo': False,\n",
    "#        'toImageButtonOptions': {\n",
    "#            'format': 'png',\n",
    "#            'filename': 'nyc_subway_incidents_by_division_line',\n",
    "#            'scale': 2\n",
    "#        }\n",
    "#    }\n",
    "#)"
   ]
  },
  {
   "cell_type": "markdown",
   "metadata": {},
   "source": [
    "These plots illustrate that there are significant temporal changes across all "
   ]
  },
  {
   "cell_type": "markdown",
   "metadata": {},
   "source": [
    "# Data Analysis\n",
    "\n",
    "> Describe your data analysis and explain what you've learned about the dataset.\n",
    "\n",
    "\n",
    "The goal was to uncover both *predictable rhythms* (like daily commute patterns) and *unexpected deviations* (like incident-driven drops or surges in ridership). Here's what we did and what we learned:\n",
    "\n",
    "The ridership dataset had timestamped logs per station, while the incident reports offered summaries of delays, causes, and affected lines. To combine them:\n",
    "\n",
    "* We converted transit_timestamp to date and hour fields for temporal grouping.\n",
    "* We filtered and normalized station names and lines to align both datasets.\n",
    "* We created **event windows** (e.g., 2 hours before and after an incident) to quantify short-term ridership impact.\n",
    "* We tagged incidents by type: *mechanical failures, signal problems, police investigations,* etc.\n",
    "\n",
    "\n",
    "**Exploratory Analysis**\n",
    "\n",
    "We started by examining macro-patterns across boroughs and time:\n",
    "\n",
    "* **Rush Hour Patterns**: Consistent weekday peaks between **7–9 AM** and **5–7 PM**, especially in Manhattan and Brooklyn.\n",
    "* **Pandemic Disruption**: An unprecedented crash in ridership during early COVID lockdowns, with some stations seeing over **90% drops**.\n",
    "* **Recovery Gaps**: Tourist-heavy stations like Times Sq and 34 St–Herald Sq rebounded faster than residential stations in The Bronx and Queens.\n",
    "* **Weekend Shifts**: Weekend ridership rebounded more quickly post-pandemic, suggesting shifts in work-from-home and leisure behaviors.\n",
    "\n",
    "**Incident Impact Analysis**\n",
    "\n",
    "Using the Incident dataset, we layered real-world disruptions onto the ridership timeline:\n",
    "\n",
    "* **Police Investigations & Track Fires** led to the *sharpest immediate drop-offs* in nearby stations.\n",
    "* **Signal Failures** showed delays across lines but didn’t always affect foot traffic, suggesting rerouting behavior rather than avoidance.\n",
    "* Some **events caused delayed rebounds**, ridership took hours or even days to normalize, especially during headline-making disruptions.\n",
    "* **Protest periods** (e.g., June 2020) showed *spikes and dips*, stations near protests surged briefly, then went quiet, possibly due to closures or fear of confrontation.\n",
    "\n",
    "\n",
    "**Summary**\n",
    "\n",
    "* Subway data doesn’t just reflect motion—it reflects *emotion*, *behavior*, and *reaction*.\n",
    "* NYC’s system shows resilience, but disruption patterns tell us where it's vulnerable—both logistically and socially.\n",
    "* By blending ridership and incident data, we moved beyond static trends into cause-and-effect storytelling.\n",
    "\n"
   ]
  },
  {
   "cell_type": "markdown",
   "metadata": {},
   "source": [
    "# Genre. Which genre of data story did you use?\n",
    "\n",
    "We chose the Magazine Style genre for our data story—because the New York City subway isn’t just a transportation network. It’s a pulse monitor, a stress test, and a storytelling engine. Every disruption—be it a signal failure, person on track, or a snowstorm—doesn’t just alter train schedules. It reshapes the way the city moves.\n",
    "\n",
    "By combining ridership data with incident reports, we were able to tell layered stories: not just when people moved, but why they sometimes didn’t. Magazine Style gave us the flexibility to unpack these moments with context, flow, and emotional pacing.\n",
    "\n",
    "It allowed readers to scroll at their own rhythm—pausing to explore a protest impact map, or skimming through timelines of monthly delays. The genre’s narrative fluidity was essential for connecting the dots between human behavior and infrastructure strain.\n",
    "\n",
    "> *Which tools did you use from each of the 3 categories of Visual Narrative (Figure 7 in Segal and Heer). Why?*\n",
    "\n",
    "We used tools across all three categories of Visual Narrative to build a meaningful and engaging experience:\n",
    "\n",
    "1. Annotations\n",
    "* Headlines, callouts, and descriptive figure captions steered attention toward key story beats.\n",
    "* Titles like “Signal Failures Spike After Storms” or “Ridership Vanishes During Lockdowns” didn’t just explain plots—they framed the story contextually.\n",
    "* Tooltips in interactive charts added hidden layers of detail without crowding the page.\n",
    "\n",
    "2. Colour and Visual Encodings\n",
    "* A consistent, purposeful colour palette differentiated data types: e.g., incident categories in red hues, ridership flows in blue.\n",
    "* Visual emphasis (e.g., spikes, drops, anomalies) helped users spot impactful moments quickly.\n",
    "* Icons and overlays—such as warning signs for disruption-heavy days—enhanced semantic readability.\n",
    "\n",
    "3. Interactive Visualisations\n",
    "* With Bokeh, users could filter data by station, time, or incident type, fostering curiosity.\n",
    "* Hover tools let users explore how events like a summer protest in Union Square or a February blizzard affected both ridership and incident volume.\n",
    "* These tools invited the reader to explore and draw conclusions—not just read ours.\n",
    "\n",
    "\n",
    "- *Which tools did you use from each of the 3 categories of Narrative Structure (Figure 7 in Segal and Heer). Why?*\n",
    "To frame the narrative coherently while offering user freedom, we employed all three structural tools:\n",
    "\n",
    "1. Ordering\n",
    "* The story is divided into three Acts—Crowd Patterns, Disruption Anatomy, and When the City Shifts—mirroring a magazine’s article format.\n",
    "* This narrative arc creates thematic pacing: from baseline behaviors, to stress points, to systemic insights.\n",
    "\n",
    "2. Interactivity\n",
    "* Our semi-guided structure blends fixed narrative flow with exploratory space.\n",
    "* Interactive elements let users inspect ridership collapses, search specific incidents, or compare multiple boroughs.\n",
    "* The freedom to investigate gives agency to the reader and supports open-ended discovery.\n",
    "\n",
    "3. Messaging\n",
    "* Each section drives home a core insight:\n",
    "“Subway ridership is sensitive to context.”\n",
    "“Disruptions ripple far beyond the station where they start.”\n",
    "“The subway reacts to the city like a nervous system.”\n",
    "* These aren't just observations—they’re takeaways backed by data and illustrated with examples.\n",
    "\n",
    "Together, these choices turned dry datasets into a textured, exploratory narrative—where each turnstile tap and each disruption became part of a deeper story about New York City’s resilience, fragility, and motion."
   ]
  },
  {
   "cell_type": "markdown",
   "metadata": {},
   "source": [
    "# Visualisation\n",
    "\n",
    "> *Explain the visualizations you've chosen.*\n",
    "To uncover and communicate the relationship between subway ridership patterns and disruptive incidents, we used a selected set of visualisation types, that aligned our goal of the story:\n",
    "\n",
    "**Time Series Plots**\n",
    "* We plotted hourly ridership and incident frequency across time to track patterns and disruptions.\n",
    "* This helped us highlight critical events and how quickly ridership recovered, or didn’t.\n",
    "* Annotated overlays allowed us to mark key incidents or citywide moments directly on the timeline.\n",
    "\n",
    "**Heatmaps**\n",
    "* We mapped total ridership and incident counts by station and borough.\n",
    "* On event days (e.g., New Year’s Eve, the Marathon, or major protests), we generated comparative heatmaps to show where foot traffic surged or collapsed.\n",
    "* We also layered incidents by location to show hotspots of recurring disruption.\n",
    "\n",
    "**Bar Charts & Rankings**\n",
    "* We used ranked bar charts to show top disrupted stations, stations with longest recovery times, and incident categories over time.\n",
    "* We also visualised the total number of disruptions by type (e.g. \"Signal failure\", \"Police investigation\", \"Weather-related\").\n",
    "\n",
    "**Interactive Bokeh Dashboards**\n",
    "* We embedded filters (station, date, borough, incident type) to let users explore on their own.\n",
    "* Hover tooltips, click-to-isolate stations, and scrollable date ranges allowed fine-grained inspection.\n",
    "\n",
    "> *Why are they right for the story you want to tell?*\n",
    "\n",
    "The story we’re telling is dynamic. It’s about a living system, constantly shifting in response to external shocks and human behavior. Our visualisation strategy reflects this:\n",
    "\n",
    "* Temporal charts reveal when things happen.\n",
    "* Spatial heatmaps reveal where they happen.\n",
    "* Categorical plots show what kinds of disruptions occur.\n",
    "* Interactive visuals invite users to ask their own questions.\n",
    "\n",
    "Together, these tools don’t just describe data—they let readers witness the subway react. They bring clarity to chaos, rhythm to noise, and structure to a city in motion."
   ]
  },
  {
   "cell_type": "markdown",
   "metadata": {},
   "source": [
    "# Discussion\n",
    "\n",
    "> *What went well?*\n",
    "\n",
    "Our biggest win was successfully turning two operational datasets, one about when people ride and the other about what disrupts them, into a human-centered narrative about New York City in motion. By synchronizing ridership patterns with major incident reports, we were able to illustrate the cause-and-effect dynamics of the subway system in real time. Our data told stories of disruption and behavioral adaptation.\n",
    "\n",
    "Choosing the Magazine Style genre gave us the creative freedom to structure our story into thematic \"acts\", each combining visuals. This narrative flow worked especially well with our visualisation strategy: using Bokeh for interactive plots, geospatial heatmaps, and annotated timelines gave users the tools to zoom into their own moments, stations, or boroughs. This interactivity helped blur the line between guided storytelling and open-ended exploration—something that would have been much harder to achieve with static charts alone.\n",
    "\n",
    "We also found that pairing incident metadata (like type, borough, and severity) with ridership responses gave us deeper insight into how different disruptions resonate. Not all incidents are equal, some (like train collisions or public safety issues) had wide ripple effects, while others (like track maintenance) were more contained. These nuances made our story richer and more grounded in real-world dynamics.\n",
    "\n",
    "> *What is still missing? What could be improved? Why?*\n",
    "\n",
    "One limitation was context granularity. While the datasets gave us hourly turnstile data and incident summaries, we sometimes lacked the narrative glue, details like exact train line outages, service reroute maps, or timestamps matching external news coverage, that would have made our cause-effect arguments even stronger.\n",
    "\n",
    "We also ran into friction with data harmonization. Merging two different datasets—ridership and incidents, meant grappling with missing timestamps and mismatches in granularity. In some cases, we had to infer station-level impact from borough-level incident descriptions, which introduced noise. Future iterations could be improved by using MTA GTFS-Realtime feeds or NYPD complaint data for sharper alignment.\n",
    "\n",
    "Finally, accessibility remains a growth area. While our interactive visuals were engaging, they lacked screen reader compatibility and robust alt text. Improving accessibility would allow a broader audience, including low-vision users, to experience the story fully."
   ]
  },
  {
   "cell_type": "markdown",
   "metadata": {},
   "source": [
    "# Contributions\n",
    "\n",
    "> *You should write (just briefly) which group member was the main responsible for which elements of the assignment.* *(I want you guys to understand every part of the assignment, but usually there is someone who took lead role on certain portions of the work.* *That's what you should explain).*\n",
    "\n",
    "> *It is not OK simply to write \"All group members contributed equally\".*\n",
    "\n",
    "Each of the 2 students has made an equal contribution to this project and each of us has helped the other and understands each component of the final outcome.\n",
    "\n",
    "However, in accordance with DTU requirements, the following is an outline of each student's main responsibilities:\n",
    "\n",
    "* **Clara Mejlhede Lorenzen (s180350)** led the data wrangling and preprocessing, including converting timestamps and structuring the data by date and hour. Clara was responsible for the GitHub Pages site, ensuring that all elements were properly linked and displayed, nonetheless, she was also in charge of implement the feedback from Assignment 2. She also contributed to the narrative structure and copy, especially in Act III (Incident reports) and the discussion section. ACT I was made in collaboration.\n",
    "\n",
    "* **Pol Triquell Lombardo (s243271)** was responsible for the narrative structure and storyboarding. He sketched the key scenes for Act II (New Year’s Eve, Marathon Sunday, protests, and incidents) and wrote most of the copy (the explainer notebook and the story), including the headlines and figure captions. Nonetheless, he also contributed on the data visualisation side, creating the interactive plots for the first Act and embedding of visuals into the GitHub Pages site. ACT I was made in collaboration.\n",
    "\n",
    "We met regularly to review, critique, and revise each section together, ensuring everyone understood the full scope of the story, from data wrangling to narrative arc."
   ]
  },
  {
   "cell_type": "markdown",
   "metadata": {},
   "source": []
  }
 ],
 "metadata": {
  "kernelspec": {
   "display_name": "base",
   "language": "python",
   "name": "python3"
  },
  "language_info": {
   "codemirror_mode": {
    "name": "ipython",
    "version": 3
   },
   "file_extension": ".py",
   "mimetype": "text/x-python",
   "name": "python",
   "nbconvert_exporter": "python",
   "pygments_lexer": "ipython3",
   "version": "3.12.3"
  }
 },
 "nbformat": 4,
 "nbformat_minor": 2
}
