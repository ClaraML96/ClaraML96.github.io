{
 "cells": [
  {
   "cell_type": "markdown",
   "id": "b04cd45c",
   "metadata": {},
   "source": [
    "# MTA Subway Hourly Ridership: 2020-2024"
   ]
  },
  {
   "cell_type": "markdown",
   "id": "a58d4147",
   "metadata": {},
   "source": [
    "**Imports**"
   ]
  },
  {
   "cell_type": "code",
   "execution_count": 1,
   "id": "720ed302",
   "metadata": {},
   "outputs": [],
   "source": [
    "import pandas as pd\n",
    "import numpy as np\n",
    "import os"
   ]
  },
  {
   "cell_type": "markdown",
   "id": "e88eb261",
   "metadata": {},
   "source": [
    "**Loading data**"
   ]
  },
  {
   "cell_type": "code",
   "execution_count": null,
   "id": "53ec132e",
   "metadata": {},
   "outputs": [
    {
     "name": "stdout",
     "output_type": "stream",
     "text": [
      "         transit_timestamp transit_mode station_complex_id  station_complex  \\\n",
      "0  2022-01-14T21:00:00.000       subway                 30  Prospect Av (R)   \n",
      "1  2022-01-14T07:00:00.000       subway                204  Beach 67 St (A)   \n",
      "2  2022-01-14T04:00:00.000       subway                 64        71 St (D)   \n",
      "3  2022-01-14T06:00:00.000       subway                372  Longwood Av (6)   \n",
      "4  2022-01-14T10:00:00.000       subway                 30  Prospect Av (R)   \n",
      "\n",
      "    borough payment_method    fare_class_category  ridership  transfers  \\\n",
      "0  Brooklyn      metrocard  Metrocard - Fair Fare        1.0        0.0   \n",
      "1    Queens      metrocard  Metrocard - Fair Fare        3.0        0.0   \n",
      "2  Brooklyn      metrocard      Metrocard - Other        1.0        0.0   \n",
      "3     Bronx      metrocard   Metrocard - Students       19.0        1.0   \n",
      "4  Brooklyn      metrocard      Metrocard - Other        6.0        0.0   \n",
      "\n",
      "    latitude  longitude                  georeference  \n",
      "0  40.665413 -73.992874  POINT (-73.992874 40.665413)  \n",
      "1  40.590927 -73.796920   POINT (-73.79692 40.590927)  \n",
      "2  40.619590 -73.998860    POINT (-73.99886 40.61959)  \n",
      "3  40.816105 -73.896440   POINT (-73.89644 40.816105)  \n",
      "4  40.665413 -73.992874  POINT (-73.992874 40.665413)  \n"
     ]
    }
   ],
   "source": [
    "# Importing dataset\n",
    "url = 'https://data.ny.gov/resource/wujg-7c2s.csv'\n",
    "df = pd.read_csv(url)\n",
    "\n",
    "# Display the first few rows of the dataset\n",
    "print(df.head())"
   ]
  },
  {
   "cell_type": "markdown",
   "id": "56f3cb2a",
   "metadata": {},
   "source": [
    "### Creating plots"
   ]
  },
  {
   "cell_type": "code",
   "execution_count": null,
   "id": "2e9e1259",
   "metadata": {},
   "outputs": [],
   "source": []
  },
  {
   "cell_type": "markdown",
   "id": "2e3b61da",
   "metadata": {},
   "source": []
  }
 ],
 "metadata": {
  "kernelspec": {
   "display_name": "base",
   "language": "python",
   "name": "python3"
  },
  "language_info": {
   "codemirror_mode": {
    "name": "ipython",
    "version": 3
   },
   "file_extension": ".py",
   "mimetype": "text/x-python",
   "name": "python",
   "nbconvert_exporter": "python",
   "pygments_lexer": "ipython3",
   "version": "3.12.3"
  }
 },
 "nbformat": 4,
 "nbformat_minor": 5
}
