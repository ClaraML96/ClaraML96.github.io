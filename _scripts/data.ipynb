{
 "cells": [
  {
   "cell_type": "markdown",
   "id": "b04cd45c",
   "metadata": {},
   "source": [
    "# MTA Subway Hourly Ridership: 2020-2024"
   ]
  },
  {
   "cell_type": "markdown",
   "id": "a58d4147",
   "metadata": {},
   "source": [
    "**Imports**"
   ]
  },
  {
   "cell_type": "code",
   "execution_count": null,
   "id": "720ed302",
   "metadata": {},
   "outputs": [
    {
     "ename": "",
     "evalue": "",
     "output_type": "error",
     "traceback": [
      "\u001b[1;31mFailed to start the Kernel. \n",
      "\u001b[1;31mUnable to start Kernel 'Python 3.12.3' due to a timeout waiting for the ports to get used. \n",
      "\u001b[1;31mView Jupyter <a href='command:jupyter.viewOutput'>log</a> for further details."
     ]
    }
   ],
   "source": [
    "import pandas as pd\n",
    "import matplotlib.pyplot as plt\n",
    "import numpy as np\n",
    "import seaborn as sns\n",
    "from datetime import datetime\n",
    "import matplotlib.dates as mdates\n",
    "from matplotlib.ticker import FuncFormatter\n",
    "import folium\n",
    "from folium.plugins import HeatMap"
   ]
  },
  {
   "cell_type": "markdown",
   "id": "e88eb261",
   "metadata": {},
   "source": [
    "**Loading data**"
   ]
  },
  {
   "cell_type": "code",
   "execution_count": null,
   "id": "53ec132e",
   "metadata": {},
   "outputs": [
    {
     "ename": "",
     "evalue": "",
     "output_type": "error",
     "traceback": [
      "\u001b[1;31mFailed to start the Kernel. \n",
      "\u001b[1;31mUnable to start Kernel 'Python 3.12.3' due to a timeout waiting for the ports to get used. \n",
      "\u001b[1;31mView Jupyter <a href='command:jupyter.viewOutput'>log</a> for further details."
     ]
    }
   ],
   "source": [
    "# Importing dataset in chunks to handle memory issues\n",
    "filepath = r\"C:/Users/clara/OneDrive - Danmarks Tekniske Universitet/Skrivebord/DTU/Human Centeret Artificial Intelligence/2. semester/02806_Social_Data_Analysis_and_Visualization/MTA_Subway_Hourly_Ridership__2020-2024_20250408.csv\"\n",
    "\n",
    "# Load the first chunk to inspect the data\n",
    "chunk_size = 100000  # Adjust the chunk size as needed\n",
    "chunk_iter = pd.read_csv(filepath, chunksize=chunk_size)\n",
    "\n",
    "# Combine the first few chunks to inspect the data\n",
    "df = pd.concat([chunk for _, chunk in zip(range(5), chunk_iter)], ignore_index=True)\n",
    "\n",
    "# Display the first few rows of the combined dataset\n",
    "print(df.head())"
   ]
  },
  {
   "cell_type": "markdown",
   "id": "56f3cb2a",
   "metadata": {},
   "source": [
    "### Creating plots"
   ]
  },
  {
   "cell_type": "code",
   "execution_count": null,
   "id": "0aac0127",
   "metadata": {},
   "outputs": [
    {
     "ename": "",
     "evalue": "",
     "output_type": "error",
     "traceback": [
      "\u001b[1;31mFailed to start the Kernel. \n",
      "\u001b[1;31mUnable to start Kernel 'Python 3.12.3' due to a timeout waiting for the ports to get used. \n",
      "\u001b[1;31mView Jupyter <a href='command:jupyter.viewOutput'>log</a> for further details."
     ]
    }
   ],
   "source": [
    "# Convert timestamp to datetime and extract hour\n",
    "df['transit_timestamp'] = pd.to_datetime(df['transit_timestamp'], errors='coerce')\n",
    "df = df.dropna(subset=['transit_timestamp', 'ridership'])  # drop rows with missing timestamps or ridership\n",
    "df['hour'] = df['transit_timestamp'].dt.hour\n",
    "\n",
    "# Plot histogram of hourly ridership\n",
    "plt.figure(figsize=(12, 6))\n",
    "#sns.histplot(\n",
    "#    data=df, \n",
    "    #x='hour',\n",
    "#    x=df['hour'].to_numpy(), \n",
    "    #weights='ridership',  # weight each entry by its ridership count\n",
    "#    weights=df['ridership'].to_numpy(),\n",
    "    #bins=24,\n",
    "#    bins=np.arange(0, 25, 1), # Makes sure there is one block for each hour \n",
    "#    kde=False, \n",
    "#    color='mistyrose',\n",
    "#    edgecolor='black'\n",
    "#)\n",
    "\n",
    "plt.hist(\n",
    "    df['hour'], \n",
    "    bins=np.arange(0, 25, 1), \n",
    "    weights=df['ridership'], \n",
    "    color='mistyrose',\n",
    "    edgecolor='black'\n",
    ")\n",
    "\n",
    "plt.title('Histogram of Hourly Ridership (All NYC Subway Stations)', fontsize=16)\n",
    "plt.xlabel('Hour of Day', fontsize=14)\n",
    "plt.ylabel('Total Ridership', fontsize=14)\n",
    "plt.xticks(range(0, 25))\n",
    "plt.grid(axis='y', alpha=0.3)\n",
    "\n",
    "plt.tight_layout()\n",
    "plt.show()\n"
   ]
  },
  {
   "cell_type": "code",
   "execution_count": null,
   "id": "5e6e2208",
   "metadata": {},
   "outputs": [
    {
     "ename": "",
     "evalue": "",
     "output_type": "error",
     "traceback": [
      "\u001b[1;31mFailed to start the Kernel. \n",
      "\u001b[1;31mUnable to start Kernel 'Python 3.12.3' due to a timeout waiting for the ports to get used. \n",
      "\u001b[1;31mView Jupyter <a href='command:jupyter.viewOutput'>log</a> for further details."
     ]
    }
   ],
   "source": [
    "# Drop rows with missing borough or ridership\n",
    "df = df.dropna(subset=['borough', 'ridership'])\n",
    "\n",
    "# Aggregate total ridership per borough\n",
    "borough_usage = df.groupby('borough')['ridership'].sum().reset_index()\n",
    "\n",
    "# Sort by ridership for cleaner plotting\n",
    "borough_usage = borough_usage.sort_values(by='ridership', ascending=False)\n",
    "\n",
    "# Make sure Staten Island is included (if it's not already in the data)\n",
    "if 'Staten Island' not in borough_usage['borough'].values:\n",
    "    # Add Staten Island with a placeholder value if you have one\n",
    "    # or remove this if-block if you're sure Staten Island is in your dataset\n",
    "    borough_usage = borough_usage.append({'borough': 'Staten Island', 'ridership': 0}, ignore_index=True)\n",
    "    borough_usage = borough_usage.sort_values(by='ridership', ascending=False)\n",
    "\n",
    "# Set the style\n",
    "plt.style.use('seaborn-v0_8-whitegrid')\n",
    "sns.set_palette(\"pastel\")\n",
    "\n",
    "# Plot\n",
    "plt.figure(figsize=(10, 6))\n",
    "ax = sns.barplot(data=borough_usage, x='borough', y='ridership', alpha=0.9)\n",
    "\n",
    "# Format\n",
    "plt.title('NYC Subway Ridership by Borough', fontsize=18)\n",
    "plt.ylabel('Total Ridership', fontsize=14)\n",
    "plt.xlabel('Borough', fontsize=14)\n",
    "plt.xticks(rotation=0)\n",
    "plt.grid(axis='y', alpha=0.3)\n",
    "\n",
    "# Add value labels directly above the borough names (at the top of the axes)\n",
    "# for i, row in borough_usage.iterrows():\n",
    "    # Place text at position i (x-axis) and just above 0 on y-axis\n",
    "    #ax.text(i, 0, f\"{int(row['ridership']):,}\", \n",
    "       #     ha='center', va='bottom', fontsize=10, fontweight='bold',\n",
    "        #    color='black', transform=ax.get_xaxis_transform())\n",
    "\n",
    "# Add value labels above each bar\n",
    "for bar in ax.patches:\n",
    "    x = bar.get_x() + bar.get_width() / 2  # Midten af søjlen\n",
    "    y = bar.get_height()                  # Højden = y-værdien vi skal vise\n",
    "    ax.text(x, y + 300,                   # 300 som offset for lidt luft\n",
    "            f\"{int(y):,}\", \n",
    "            ha='center', va='bottom', fontsize=10, fontweight='bold', color='black')\n",
    "\n",
    "\n",
    "plt.tight_layout()\n",
    "plt.show()"
   ]
  },
  {
   "cell_type": "code",
   "execution_count": null,
   "id": "329225c9",
   "metadata": {},
   "outputs": [
    {
     "ename": "",
     "evalue": "",
     "output_type": "error",
     "traceback": [
      "\u001b[1;31mFailed to start the Kernel. \n",
      "\u001b[1;31mUnable to start Kernel 'Python 3.12.3' due to a timeout waiting for the ports to get used. \n",
      "\u001b[1;31mView Jupyter <a href='command:jupyter.viewOutput'>log</a> for further details."
     ]
    }
   ],
   "source": [
    "# Pie chart version\n",
    "plt.figure(figsize=(8, 8))\n",
    "colors = sns.color_palette(\"pastel\")\n",
    "\n",
    "def make_autopct(values):\n",
    "    def my_autopct(pct):\n",
    "        total = sum(values)\n",
    "        count = int(round(pct * total / 100.0))\n",
    "        return f\"{pct:.1f}%\\n({count:,})\"  # tilføj tusindtalsseparator\n",
    "    return my_autopct\n",
    "\n",
    "plt.pie(borough_usage['ridership'], labels=borough_usage['borough'], \n",
    "        autopct=make_autopct(borough_usage['ridership']), startangle=140, colors=colors, \n",
    "        wedgeprops=dict(width=0.5))  # Makes a donut chart\n",
    "\n",
    "plt.title('Share of NYC Subway Ridership by Borough', fontsize=16)\n",
    "plt.tight_layout()\n",
    "plt.show()\n"
   ]
  },
  {
   "cell_type": "markdown",
   "id": "2e3b61da",
   "metadata": {},
   "source": [
    "## Creating Heatmap"
   ]
  },
  {
   "cell_type": "code",
   "execution_count": null,
   "id": "332edf8a",
   "metadata": {},
   "outputs": [
    {
     "ename": "",
     "evalue": "",
     "output_type": "error",
     "traceback": [
      "\u001b[1;31mFailed to start the Kernel. \n",
      "\u001b[1;31mUnable to start Kernel 'Python 3.12.3' due to a timeout waiting for the ports to get used. \n",
      "\u001b[1;31mView Jupyter <a href='command:jupyter.viewOutput'>log</a> for further details."
     ]
    }
   ],
   "source": [
    "# Drop missing or invalid rows\n",
    "df = df.dropna(subset=['latitude', 'longitude', 'ridership'])\n",
    "\n",
    "# Optional: filter to remove weird outlier entries (e.g., zero or negative ridership)\n",
    "df = df[df['ridership'] > 0]\n",
    "\n",
    "# Aggregate ridership by station location\n",
    "station_usage = df.groupby(['latitude', 'longitude']).agg(\n",
    "    total_ridership=('ridership', 'sum')\n",
    ").reset_index()\n",
    "\n",
    "# Scale the ridership for display (adjust divisor if needed)\n",
    "station_usage['weight'] = station_usage['total_ridership'] / 1000\n",
    "\n",
    "# Convert to list of [lat, lon, weight]\n",
    "heat_data = station_usage[['latitude', 'longitude', 'weight']].values.tolist()\n",
    "\n",
    "# NYC coordinates\n",
    "nyc_latitude = 40.7128\n",
    "nyc_longitude = -74.0060\n",
    "\n",
    "# Create a folium map centered on NYC\n",
    "nyc_map = folium.Map(location=[nyc_latitude, nyc_longitude], zoom_start=11)\n",
    "\n",
    "# Add heatmap layer\n",
    "HeatMap(heat_data, radius=10, blur=8, max_zoom=1).add_to(nyc_map)\n",
    "\n",
    "# Display map in notebook (for Jupyter / Colab)\n",
    "nyc_map"
   ]
  },
  {
   "cell_type": "code",
   "execution_count": null,
   "id": "85ddcacb",
   "metadata": {},
   "outputs": [
    {
     "ename": "",
     "evalue": "",
     "output_type": "error",
     "traceback": [
      "\u001b[1;31mFailed to start the Kernel. \n",
      "\u001b[1;31mUnable to start Kernel 'Python 3.12.3' due to a timeout waiting for the ports to get used. \n",
      "\u001b[1;31mView Jupyter <a href='command:jupyter.viewOutput'>log</a> for further details."
     ]
    }
   ],
   "source": [
    "# Drop missing or invalid rows\n",
    "df = df.dropna(subset=['latitude', 'longitude', 'ridership'])\n",
    "\n",
    "# Optional: filter to remove weird outlier entries (e.g., zero or negative ridership)\n",
    "df = df[df['ridership'] > 0]\n",
    "\n",
    "# Aggregate ridership by station location\n",
    "station_usage = df.groupby(['latitude', 'longitude']).agg(\n",
    "    total_ridership=('ridership', 'sum')\n",
    ").reset_index()\n",
    "\n",
    "# Scale the ridership for display (adjust divisor if needed)\n",
    "station_usage['weight'] = station_usage['total_ridership'] / 1000\n",
    "\n",
    "# Convert to list of [lat, lon, weight]\n",
    "heat_data = station_usage[['latitude', 'longitude', 'weight']].values.tolist()\n",
    "\n",
    "# NYC coordinates\n",
    "nyc_latitude = 40.7128\n",
    "nyc_longitude = -74.0060\n",
    "\n",
    "# Create a folium map centered on NYC\n",
    "nyc_map = folium.Map(location=[nyc_latitude, nyc_longitude], zoom_start=11)\n",
    "\n",
    "for _, row in station_usage.iterrows():\n",
    "    folium.CircleMarker(\n",
    "        location=[row['latitude'], row['longitude']],\n",
    "        radius=3,\n",
    "        popup=f\"Ridership: {int(row['total_ridership'])}\",\n",
    "        fill=True,\n",
    "        color='blue',\n",
    "        fill_opacity=0.6\n",
    "    ).add_to(nyc_map)\n",
    "\n",
    "# Add heatmap layer\n",
    "HeatMap(heat_data, radius=10, blur=8, max_zoom=1).add_to(nyc_map)\n",
    "\n",
    "\n",
    "# Display map in notebook (for Jupyter / Colab)\n",
    "nyc_map\n",
    "\n"
   ]
  },
  {
   "cell_type": "markdown",
   "id": "357e1633",
   "metadata": {},
   "source": [
    "### Bosplot"
   ]
  },
  {
   "cell_type": "code",
   "execution_count": 7,
   "id": "8908080b",
   "metadata": {},
   "outputs": [
    {
     "name": "stderr",
     "output_type": "stream",
     "text": [
      "C:\\Users\\clara\\AppData\\Local\\Temp\\ipykernel_36952\\3264026638.py:3: FutureWarning: \n",
      "\n",
      "Passing `palette` without assigning `hue` is deprecated and will be removed in v0.14.0. Assign the `x` variable to `hue` and set `legend=False` for the same effect.\n",
      "\n",
      "  sns.boxplot(data=df, x='borough', y='ridership', palette='pastel')\n"
     ]
    },
    {
     "data": {
      "image/png": "[encoded data removed]",
      "text/plain": [
       "<Figure size 1200x600 with 1 Axes>"
      ]
     },
     "metadata": {},
     "output_type": "display_data"
    }
   ],
   "source": [
    "#Boxplot of ridership by borough\n",
    "plt.figure(figsize=(12, 6))\n",
    "sns.boxplot(data=df, x='borough', y='ridership', palette='pastel')\n",
    "plt.title('Boxplot of Ridership by Borough', fontsize=16)\n",
    "plt.xlabel('Borough', fontsize=14)\n",
    "plt.ylabel('Ridership', fontsize=14)\n",
    "plt.xticks(rotation=45)\n",
    "plt.grid(axis='y', alpha=0.3)\n",
    "plt.tight_layout()\n",
    "plt.show()"
   ]
  },
  {
   "cell_type": "code",
   "execution_count": null,
   "id": "90d19d2c",
   "metadata": {},
   "outputs": [],
   "source": []
  }
 ],
 "metadata": {
  "kernelspec": {
   "display_name": "Python 3",
   "language": "python",
   "name": "python3"
  },
  "language_info": {
   "codemirror_mode": {
    "name": "ipython",
    "version": 3
   },
   "file_extension": ".py",
   "mimetype": "text/x-python",
   "name": "python",
   "nbconvert_exporter": "python",
   "pygments_lexer": "ipython3",
   "version": "3.12.3"
  }
 },
 "nbformat": 4,
 "nbformat_minor": 5
}
